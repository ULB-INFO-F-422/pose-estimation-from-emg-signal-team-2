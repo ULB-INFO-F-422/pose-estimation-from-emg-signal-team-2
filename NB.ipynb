{
 "cells": [
  {
   "cell_type": "markdown",
   "id": "57dce8ae-2b99-4259-9555-c28a32b0df9a",
   "metadata": {},
   "source": [
    "# Projet F422\n"
   ]
  },
  {
   "cell_type": "markdown",
   "id": "8df6021b-d55e-4246-a1eb-40b799b9505b",
   "metadata": {},
   "source": [
    "## Import\n"
   ]
  },
  {
   "cell_type": "code",
   "execution_count": 4,
   "id": "808d37a0-672b-4487-a11b-799e4dc7b328",
   "metadata": {},
   "outputs": [],
   "source": [
    "import numpy as np\n",
    "import matplotlib.pyplot as plt\n",
    "from sklearn.model_selection import KFold\n",
    "\n",
    "from sklearn.metrics import mean_squared_error\n",
    "from sklearn.ensemble import RandomForestRegressor"
   ]
  },
  {
   "cell_type": "code",
   "execution_count": 5,
   "id": "e079bf6d-20cb-40d3-a5f3-7528a3bfaabc",
   "metadata": {},
   "outputs": [],
   "source": [
    "path = \"F422 EMG project data\"\n",
    "\n",
    "X_guided_train = np.load(f\"{path}/guided/guided_dataset_X.npy\")\n",
    "y_guided_train = np.load(f\"{path}/guided/guided_dataset_y.npy\")\n",
    "X_guided_test = np.load(f\"{path}/guided/guided_testset_X.npy\")\n",
    "\n",
    "X_freemoves_train = np.load(f\"{path}/freemoves/freemoves_dataset_X.npy\")\n",
    "y_freemoves_train = np.load(f\"{path}/freemoves/freemoves_dataset_y.npy\")\n",
    "X_freemoves_test = np.load(f\"{path}/freemoves/freemoves_testset_X.npy\")"
   ]
  },
  {
   "cell_type": "code",
   "execution_count": 6,
   "id": "91700cfd-862e-4c1a-8b4d-cd877903e4c6",
   "metadata": {},
   "outputs": [
    {
     "name": "stdout",
     "output_type": "stream",
     "text": [
      "Guid:\n",
      "X_train (5, 8, 230000)\n",
      "y_train (5, 51, 230000)\n",
      "X_test (5, 332, 8, 500)\n",
      "\n",
      "Free:\n",
      "X_train (5, 8, 270000)\n",
      "y_train (5, 51, 270000)\n",
      "X_test (5, 308, 8, 500)\n"
     ]
    }
   ],
   "source": [
    "print(\"Guid:\")\n",
    "print(f\"X_train {X_guided_train.shape}\")\n",
    "print(f\"y_train {y_guided_train.shape}\") \n",
    "print(f\"X_test {X_guided_test.shape}\\n\")\n",
    "\n",
    "print(\"Free:\")\n",
    "print(f\"X_train {X_freemoves_train.shape}\")\n",
    "print(f\"y_train {y_freemoves_train.shape}\")\n",
    "print(f\"X_test {X_freemoves_test.shape}\")"
   ]
  },
  {
   "cell_type": "markdown",
   "id": "99b6d722-1f28-46e2-81e6-d6248e82c296",
   "metadata": {},
   "source": [
    "## Question 1 (bonus)  : Filtre"
   ]
  },
  {
   "cell_type": "code",
   "execution_count": 8,
   "id": "f2b14a95-5aa5-4254-b829-eba74e0d45a3",
   "metadata": {},
   "outputs": [],
   "source": [
    "def filtre(data, size=5):\n",
    "    filtered = np.zeros_like(data)\n",
    "    for session in range(data.shape[0]):\n",
    "        for electrode in range(data.shape[1]):\n",
    "            x = data[session, electrode]\n",
    "            x_pad = np.pad(x, (size//2,), mode='edge')  # padding pour conserver la taille\n",
    "            x_smooth = np.convolve(x_pad, np.ones(size)/size, mode='valid')\n",
    "            filtered[session, electrode] = x_smooth\n",
    "    return filtered"
   ]
  },
  {
   "cell_type": "markdown",
   "id": "a72772ee-15cf-4401-9f8f-e70466a7b378",
   "metadata": {},
   "source": [
    "## Question 2 : Overlap"
   ]
  },
  {
   "cell_type": "code",
   "execution_count": 10,
   "id": "0e175299-5e69-4d81-83ae-6cfba3bcb0d3",
   "metadata": {},
   "outputs": [],
   "source": [
    "def overlap(data, overlap=0.5, size=500):\n",
    "    Data = []\n",
    "    step = int(size * (1 - overlap))\n",
    "    n = (data.shape[2] - size) // step + 1\n",
    "    fin = n * step\n",
    "    \n",
    "    for start in range(0, fin, step):\n",
    "        end = start + size\n",
    "        W = data[... , start:end]\n",
    "        Data.append(W)\n",
    "        \n",
    "    Data = np.array(Data)\n",
    "    Data = Data.transpose(1, 0, 2, 3)\n",
    "    return Data"
   ]
  },
  {
   "cell_type": "code",
   "execution_count": 11,
   "id": "777d9f08-345d-481e-868f-e04d533ab3fb",
   "metadata": {},
   "outputs": [],
   "source": [
    "X = overlap(X_guided_train)\n",
    "Y = overlap(y_guided_train)"
   ]
  },
  {
   "cell_type": "markdown",
   "id": "688e2b63-e81a-44ba-a859-d7e1b2edb7dc",
   "metadata": {},
   "source": [
    "## Question 3 : Cross Validation K-Fold"
   ]
  },
  {
   "cell_type": "code",
   "execution_count": 13,
   "id": "3302db60-5990-4ffd-9a68-c66ae08d9915",
   "metadata": {},
   "outputs": [],
   "source": [
    "def redimensionne(X, Y):\n",
    "\n",
    "    x = X.reshape(-1, X.shape[2], X.shape[3])  \n",
    "    y = Y.reshape(-1, Y.shape[2], Y.shape[3])  \n",
    "\n",
    "    vecX = x.reshape(x.shape[0], -1)  \n",
    "    vecY = y.mean(axis=-1)  \n",
    "    # vecY = y.reshape(y.shape[0], -1)\n",
    "    \n",
    "    return vecX, vecY\n"
   ]
  },
  {
   "cell_type": "code",
   "execution_count": 14,
   "id": "4e132d7a-a903-4fea-828b-6dcf20d2bdc7",
   "metadata": {},
   "outputs": [],
   "source": [
    "vecX, vecY = redimensionne(X, Y)\n",
    "K=5\n",
    "kf = KFold(n_splits=K)\n",
    "\n",
    "for train_id, val_id in kf.split(vecX):\n",
    "    X_train, X_val = vecX[train_id], vecX[val_id]\n",
    "    Y_train, Y_val = vecY[train_id], vecY[val_id]\n",
    "\n",
    "    \n",
    "    #model = ... #chosir model\n",
    "    #model.fit(X_train, y_train)\n",
    "\n",
    "    #evaluation des resultat\n"
   ]
  },
  {
   "cell_type": "code",
   "execution_count": null,
   "id": "e108532c-f6bf-43ba-b524-0508ba382b4c",
   "metadata": {},
   "outputs": [],
   "source": []
  }
 ],
 "metadata": {
  "kernelspec": {
   "display_name": "Python [conda env:base] *",
   "language": "python",
   "name": "conda-base-py"
  },
  "language_info": {
   "codemirror_mode": {
    "name": "ipython",
    "version": 3
   },
   "file_extension": ".py",
   "mimetype": "text/x-python",
   "name": "python",
   "nbconvert_exporter": "python",
   "pygments_lexer": "ipython3",
   "version": "3.12.7"
  }
 },
 "nbformat": 4,
 "nbformat_minor": 5
}
