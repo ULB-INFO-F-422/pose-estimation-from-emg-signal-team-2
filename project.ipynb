{
 "cells": [
  {
   "cell_type": "markdown",
   "id": "83db2eb7",
   "metadata": {},
   "source": [
    "# (INFO-F422) Statistical foundations of machine learning: Project 24-25\n",
    "\n",
    "description: regression task, predict continuous hand proshtesis movement through short time-windows hand pose (angles) from forearm electrode sensors. \n",
    "\n",
    "+ author 1\n",
    "+ author 2\n",
    "+ author 3"
   ]
  },
  {
   "cell_type": "markdown",
   "id": "6a81e421",
   "metadata": {},
   "source": [
    "__TODO__: \n",
    "+ std dev in addition to avg fro cv scores (may prefere slightly higher cv but with lower var)\n",
    "+ eval metrics interpretation, ..."
   ]
  },
  {
   "cell_type": "markdown",
   "id": "49ceb2ca",
   "metadata": {},
   "source": [
    "___\n",
    "\n",
    "## Imports"
   ]
  },
  {
   "cell_type": "code",
   "execution_count": null,
   "id": "114e0eb1",
   "metadata": {},
   "outputs": [],
   "source": [
    "# models\n",
    "from sklearn.linear_model import Ridge, LinearRegression\n",
    "from sklearn.tree import DecisionTreeRegressor\n",
    "from sklearn.ensemble import RandomForestRegressor\n",
    "from sklearn.neighbors import KNeighborsRegressor\n",
    "from sklearn.dummy import DummyRegressor\n",
    "\n",
    "# model selection\n",
    "from sklearn.model_selection import LeaveOneGroupOut, cross_val_score, GridSearchCV\n",
    "from sklearn.metrics import make_scorer, mean_squared_error\n",
    "from sklearn.decomposition import PCA\n",
    "\n",
    "# preprocessing\n",
    "from sklearn.base import BaseEstimator, TransformerMixin\n",
    "from sklearn.pipeline import Pipeline, make_pipeline\n",
    "from sklearn.preprocessing import StandardScaler\n",
    "from sklearn.feature_selection import SelectFromModel\n",
    "\n",
    "# utils\n",
    "import pandas as pd\n",
    "import numpy as np\n",
    "import matplotlib.pyplot as plt"
   ]
  },
  {
   "cell_type": "markdown",
   "id": "0f719d13",
   "metadata": {},
   "source": [
    "___\n",
    "\n",
    "## Data loading"
   ]
  },
  {
   "cell_type": "code",
   "execution_count": 2,
   "id": "15cf5833",
   "metadata": {},
   "outputs": [],
   "source": [
    "data_dir = \"data\"\n",
    "pred_dir = \"results\"\n",
    "\n",
    "X_g_train = np.load(f\"{data_dir}/guided/guided_dataset_X.npy\")\n",
    "y_g_train = np.load(f\"{data_dir}/guided/guided_dataset_y.npy\")\n",
    "X_g_test = np.load(f\"{data_dir}/guided/guided_testset_X.npy\")\n",
    "\n",
    "X_f_train = np.load(f\"{data_dir}/freemoves/freemoves_dataset_X.npy\")\n",
    "y_f_train = np.load(f\"{data_dir}/freemoves/freemoves_dataset_y.npy\")\n",
    "X_f_test = np.load(f\"{data_dir}/freemoves/freemoves_testset_X.npy\")\n"
   ]
  },
  {
   "cell_type": "code",
   "execution_count": 3,
   "id": "1b8272a9",
   "metadata": {},
   "outputs": [
    {
     "name": "stdout",
     "output_type": "stream",
     "text": [
      "Guided:\n",
      "X_g_train (5, 8, 230000) / y_g_train(5, 51, 230000) / X_g_test(5, 332, 8, 500)\n",
      "\n",
      "Free moves:\n",
      "X_f_train(5, 8, 270000) / y_f_train(5, 51, 270000) / X_f_test(5, 308, 8, 500)\n"
     ]
    }
   ],
   "source": [
    "print(\"Guided:\")\n",
    "print(f\"X_g_train {X_g_train.shape} / y_g_train{y_g_train.shape} / X_g_test{X_g_test.shape}\\n\")\n",
    "print(\"Free moves:\")\n",
    "print(f\"X_f_train{X_f_train.shape} / y_f_train{y_f_train.shape} / X_f_test{X_f_test.shape}\")"
   ]
  },
  {
   "cell_type": "markdown",
   "id": "4e5c5584",
   "metadata": {},
   "source": [
    "___\n",
    "\n",
    "## Data preparation"
   ]
  },
  {
   "cell_type": "code",
   "execution_count": 4,
   "id": "1107294d",
   "metadata": {},
   "outputs": [],
   "source": [
    "class XWindowAugment(BaseEstimator, TransformerMixin):\n",
    "    \"\"\"\n",
    "    Augment X through overlapping windows\n",
    "    \"\"\"\n",
    "    \n",
    "    def __init__(self, window_size=500, overlap=0.5):\n",
    "        self.window_size = window_size\n",
    "        self.overlap = overlap\n",
    "    \n",
    "    def fit(self, X, y=None):\n",
    "        return self\n",
    "    \n",
    "    def transform(self, X, y=None):\n",
    "        axis = 2 # time\n",
    "        step = int(self.window_size * (1 - self.overlap))\n",
    "        \n",
    "        # sliding_windows_view Generate all possible windows with the corresponding step, that not what we want.\n",
    "        X_windows = np.lib.stride_tricks.sliding_window_view(X,self.window_size, axis)\n",
    "\n",
    "        # only keep windows where the step is a multiple of our step \n",
    "        X_windows = X_windows[:,:,::step,:]\n",
    "         \n",
    "        # (session, electrode, window, time) to (session, window, electrode, time)\n",
    "        X_windows = X_windows.transpose(0, 2, 1, 3) \n",
    "        \n",
    "        return X_windows   "
   ]
  },
  {
   "cell_type": "code",
   "execution_count": 5,
   "id": "eb29439f",
   "metadata": {},
   "outputs": [],
   "source": [
    "class yWindowAugment(BaseEstimator, TransformerMixin):\n",
    "    \"\"\"\n",
    "    + Augment y through overlapping windows \n",
    "    + Extract target of correspondoing windows\n",
    "    \"\"\"\n",
    "    \n",
    "    def __init__(self, window_size=500, overlap=0.5):\n",
    "        self.window_size = window_size\n",
    "        self.overlap = overlap\n",
    "    \n",
    "    def fit(self, y, X=None):\n",
    "        return self\n",
    "    \n",
    "    def transform(self, y, X=None):\n",
    "        axis = 2 # time\n",
    "        step = int(self.window_size * (1 - self.overlap))\n",
    "        \n",
    "        # ----- window augment -----\n",
    "        \n",
    "        # sliding_windows_view Generate all possible windows with the corresponding step, that not what we want.\n",
    "        y_windows = np.lib.stride_tricks.sliding_window_view(y,self.window_size, axis)\n",
    "\n",
    "        # only keep windows where the step is a multiple of our step \n",
    "        y_windows = y_windows[:,:,::step,:]\n",
    "         \n",
    "        # (session, angles, window, time) to (session, window, angles, time)\n",
    "        y_windows = y_windows.transpose(0, 2, 1, 3)     \n",
    "        \n",
    "        # ----- target extract -----\n",
    "        \n",
    "        y_windows = y_windows[:, :, :, -1] # keep last hand pose as window target\n",
    "        \n",
    "        return y_windows"
   ]
  },
  {
   "cell_type": "markdown",
   "id": "63b93a3c",
   "metadata": {},
   "source": [
    "Prepared data"
   ]
  },
  {
   "cell_type": "code",
   "execution_count": 7,
   "id": "3b67f295",
   "metadata": {},
   "outputs": [
    {
     "name": "stdout",
     "output_type": "stream",
     "text": [
      "Guided windowed:\n",
      "X_g_train_wdw (5, 919, 8, 500) / X_g_test (5, 332, 8, 500)\n",
      "y_g_train_wdw(5, 919, 51)\n",
      "\n",
      "Free moves windowed:\n",
      "X_f_train_wdw (5, 1079, 8, 500) / X_f_test (5, 308, 8, 500)\n",
      "y_f_train_wdw(5, 1079, 51)\n"
     ]
    }
   ],
   "source": [
    "X_g_train_wdw = XWindowAugment().transform(X_g_train)\n",
    "y_g_train_wdw = yWindowAugment().transform(y_g_train)\n",
    "\n",
    "X_f_train_wdw = XWindowAugment().transform(X_f_train)\n",
    "y_f_train_wdw = yWindowAugment().transform(y_f_train)\n",
    "\n",
    "print(\"Guided windowed:\")\n",
    "print(f\"X_g_train_wdw {X_g_train_wdw.shape} / X_g_test {X_g_test.shape}\")\n",
    "print(f\"y_g_train_wdw{y_g_train_wdw.shape}\\n\")\n",
    "\n",
    "print(\"Free moves windowed:\")\n",
    "print(f\"X_f_train_wdw {X_f_train_wdw.shape} / X_f_test {X_f_test.shape}\")\n",
    "print(f\"y_f_train_wdw{y_f_train_wdw.shape}\")"
   ]
  },
  {
   "cell_type": "markdown",
   "id": "5168a540",
   "metadata": {},
   "source": [
    "___\n",
    "\n",
    "## Evaluation metrics\n",
    "\n",
    "\n",
    "+ RMSE = $\\frac{x}{y}$\n",
    "    - low\n",
    "    + high\n",
    "\n",
    "+ NMSE\n",
    "    - low\n",
    "    + high\n"
   ]
  },
  {
   "cell_type": "markdown",
   "id": "9851d74b",
   "metadata": {},
   "source": [
    "___\n",
    "\n",
    "## Cross validation strategy\n",
    "\n",
    "strategy: session based Leave One Group Out\n",
    "\n",
    "+ no **window overlap leakage**\n",
    "+ avoids **session bias**: [sensor drift](https://gebrabit.com/what-does-sensor-drift-mean/), electrode (sensors) placements, experiment conditions, ... \n",
    "\n",
    "(knowledge of exact experiments conditions is limitted but session based folds shoudl reduce these assumed biases) "
   ]
  },
  {
   "cell_type": "code",
   "execution_count": 8,
   "id": "8fdb3a5d",
   "metadata": {},
   "outputs": [],
   "source": [
    "# Guided session groups\n",
    "n_sessions_g, n_windows_g, n_electrodes_g, n_times_g = X_g_train_wdw.shape\n",
    "groups_g = np.repeat(np.arange(1, n_sessions_g+1), n_windows_g) # [1 ... 1], [2 ... 2], ..., [5 ...5] (each group of lenght n_windows)\n",
    "\n",
    "# Free move session groups\n",
    "n_sessions_f, n_windows_f, n_electrodes_f, n_times_f = X_f_train_wdw.shape\n",
    "groups_f = np.repeat(np.arange(1,n_sessions_f+1), n_windows_f)"
   ]
  },
  {
   "cell_type": "code",
   "execution_count": null,
   "id": "1e2944b6",
   "metadata": {},
   "outputs": [],
   "source": [
    "# loss functions\n",
    "def rmse(y_true, y_hat):\n",
    "    return np.sqrt(np.mean((y_true-y_hat)**2))\n",
    "def nmse(y_true, y_hat):\n",
    "    return np.mean((y_true-y_hat)**2)/np.std(y_true)**2\n",
    "\n",
    "# scorers\n",
    "rmse_scorer = make_scorer(rmse, greater_is_better=False)\n",
    "nmse_scorer = make_scorer(nmse, greater_is_better=False)\n",
    "\n",
    "# cv function \n",
    "logo = LeaveOneGroupOut()\n",
    "def logo_cv(X, y, model, groups, scorer=rmse_scorer):\n",
    "    cv_scores = cross_val_score(model, X, y, groups=groups, cv=logo, scoring=scorer, n_jobs=-1)\n",
    "    return np.mean(-cv_scores)"
   ]
  },
  {
   "cell_type": "code",
   "execution_count": 18,
   "id": "1f0d5fd4",
   "metadata": {},
   "outputs": [],
   "source": [
    "# custom by hand (more specific results)\n",
    "def _logo_cv(X, y, model, groups):\n",
    "    nmse_results = []\n",
    "    rmse_results = []\n",
    "    for train_index, test_index in logo.split(X, y, groups):\n",
    "        X_tr, X_ts = X.iloc[train_index], X.iloc[test_index] # df\n",
    "        y_tr, y_ts = y[train_index], y[test_index]\n",
    "        \n",
    "        model.fit(X_tr, y_tr)\n",
    "        y_hat = model.predict(X_ts)\n",
    "        rmse_results.append(rmse(y_ts, y_hat))\n",
    "        nmse_results.append(nmse(y_ts, y_hat))\n",
    "    \n",
    "    rmse_cv, rmse_std = np.mean(rmse_results), np.std(rmse_results)\n",
    "    nmse_cv, nmse_std = np.mean(nmse_results), np.std(nmse_results)\n",
    "    return rmse_cv, nmse_cv, rmse_std, nmse_std"
   ]
  },
  {
   "cell_type": "markdown",
   "id": "da8800c8",
   "metadata": {},
   "source": [
    "___\n",
    "\n",
    "## Common time features extraction\n",
    "\n",
    "+ Mean Absolute Value (MAV)\n",
    "+ Root Mean Square (RMS)\n",
    "+ Variance (VAR)\n",
    "+ Standard Deviation (STD)\n",
    "+ Zero Crossing (ZC)\n",
    "+ Myopulse Percentage Rate (MPR)"
   ]
  },
  {
   "cell_type": "code",
   "execution_count": null,
   "id": "b8cab1ce",
   "metadata": {},
   "outputs": [],
   "source": [
    "class FeatureExtractor(BaseEstimator, TransformerMixin):\n",
    "    \"\"\"\n",
    "    Extracts common time-domain features, from numpy arrays into a dataframe (readability)\n",
    "    \"\"\"\n",
    "\n",
    "    def __init__(self, mpr_threshold=0.5):\n",
    "        self.mpr_threshold = mpr_threshold\n",
    "\n",
    "    def fit(self, X, y=None):\n",
    "        return self\n",
    "\n",
    "    def transform(self, X, y=None):        \n",
    "        # --- Feature extraction ---\n",
    "        feature_names = [\"MAV\", \"RMS\", \"VAR\", \"STD\", \"ZC\", \"MPR\"]\n",
    "        n_features = len(feature_names)\n",
    "        \n",
    "        n_sessions, n_windows, n_electrodes, n_times = X.shape\n",
    "        features = np.zeros((n_sessions * n_windows, n_electrodes * n_features))\n",
    "        \n",
    "        for s in range(n_sessions):\n",
    "            for w in range(n_windows):\n",
    "                i = s*n_windows + w # index in flattened contiguous windows samples 'form'\n",
    "                wdw_features = []\n",
    "                for e in range(n_electrodes):\n",
    "                    signal = X[s, w, e, :] # window signal\n",
    "                    \n",
    "                    mav = np.mean(np.abs(signal))\n",
    "                    rms = np.sqrt(np.mean(signal**2))\n",
    "                    var = np.var(signal)\n",
    "                    std = np.std(signal)\n",
    "                    zc = np.sum(np.diff(np.signbit(signal)).astype(int))\n",
    "                    mpr = np.mean(np.abs(signal) > self.mpr_threshold)    \n",
    "                    wdw_features.extend([mav, rms, var, std, zc, mpr])\n",
    "                \n",
    "                features[i, :] = wdw_features\n",
    "        \n",
    "        # --- to Dataframe ---            \n",
    "        column_names = [f\"elec{e}_{name}\" for e in range(n_electrodes) for name in feature_names]\n",
    "        df = pd.DataFrame(features, columns=column_names)\n",
    "        \n",
    "        return df"
   ]
  },
  {
   "cell_type": "code",
   "execution_count": 11,
   "id": "a193ff5d",
   "metadata": {},
   "outputs": [],
   "source": [
    "class TargetFlattener(BaseEstimator, TransformerMixin):\n",
    "    \"\"\"\n",
    "    Flatten feature set for sklearn usability\n",
    "    \"\"\"\n",
    "\n",
    "    def fit(self, y, X=None):\n",
    "        return self\n",
    "\n",
    "    def transform(self, y, X=None):      \n",
    "        \n",
    "        # -- Reshape --\n",
    "        n_sessions, n_windows, n_angles = y.shape\n",
    "        \n",
    "        # Reshape to (sessions*windows, angles)\n",
    "        y_flat = y.reshape(n_sessions * n_windows, n_angles)\n",
    "        \n",
    "        return y_flat"
   ]
  },
  {
   "cell_type": "markdown",
   "id": "f004b544",
   "metadata": {},
   "source": [
    "Preprocessed data "
   ]
  },
  {
   "cell_type": "code",
   "execution_count": 13,
   "id": "c053e838",
   "metadata": {},
   "outputs": [
    {
     "name": "stdout",
     "output_type": "stream",
     "text": [
      "Guided preprocessed:\n",
      "X_g_train_preproc (4595, 48)\n",
      "y_g_train_preproc(4595, 51)\n",
      "\n",
      "Free move preprocessed:\n",
      "X_f_train_preproc (5395, 48)\n",
      "y_f_train_preproc(5395, 51)\n"
     ]
    }
   ],
   "source": [
    "X_g_train_preproc = FeatureExtractor().transform(X_g_train_wdw)\n",
    "y_g_train_preproc = TargetFlattener().transform(y_g_train_wdw)\n",
    "\n",
    "X_f_train_preproc = FeatureExtractor().transform(X_f_train_wdw)\n",
    "y_f_train_preproc = TargetFlattener().transform(y_f_train_wdw)\n",
    "\n",
    "print(\"Guided preprocessed:\")\n",
    "print(f\"X_g_train_preproc {X_g_train_preproc.shape}\")\n",
    "print(f\"y_g_train_preproc{y_g_train_preproc.shape}\\n\")\n",
    "\n",
    "print(\"Free move preprocessed:\")\n",
    "print(f\"X_f_train_preproc {X_f_train_preproc.shape}\")\n",
    "print(f\"y_f_train_preproc{y_f_train_preproc.shape}\")"
   ]
  },
  {
   "cell_type": "markdown",
   "id": "b0a28dcf",
   "metadata": {},
   "source": [
    "___\n",
    "\n",
    "## Baselines\n",
    "\n",
    "1) Baseline exploration\n",
    "\n",
    "2) analyse feature importance\n",
    "\n",
    "3) best feature selection \n",
    "\n",
    "4) final baseline selection"
   ]
  },
  {
   "cell_type": "markdown",
   "id": "211ec66f",
   "metadata": {},
   "source": [
    "#### 1) Baseline 'exploration'\n",
    "\n",
    "+ try 2 baseline models from different model families (linear, tree based) to get a sense of data/model interaction, early signals of what models (assumptions) seems to work well on data.\n",
    "\n",
    "+ establishes a cross validation score benchmark that more complex models should beat (to be worth the complexity).\n",
    "\n",
    "(default parametres - just get a sense of data/model interacton)\n",
    "\n",
    "__note__: no leakage from feature extraction being outside cross validation loop (work directly with X_g_train_preproc, y_g_train_preproc), since feature extraction operates at window level and logo folds are session based (use of window information only), so no validation set information is leaked (independant sessions)."
   ]
  },
  {
   "cell_type": "code",
   "execution_count": null,
   "id": "dbde0ae4",
   "metadata": {},
   "outputs": [],
   "source": [
    "cv_results_baselines_g = {}\n",
    "cv_results_baselines_f = {}\n",
    "\n",
    "baselines = {\n",
    "    \"dummy_mean\": DummyRegressor(strategy='mean'),\n",
    "    \"ols\": make_pipeline(StandardScaler(), LinearRegression(n_jobs=-1)), # add standardization for coefs interpretability, ...\n",
    "    \"random_forest\": RandomForestRegressor(random_state=0, n_jobs=-1, n_estimators=10),\n",
    "}\n",
    "\n",
    "# TODO: better visualization (plot?)\n",
    "\n",
    "# guided\n",
    "for name, model in baselines.items():\n",
    "    rmse_cv, nmse_cv, rmse_std, nmse_std = _logo_cv(X_g_train_preproc, y_g_train_preproc, model, groups_g)\n",
    "    cv_results_baselines_g[name] = {\"rmse\": rmse_cv, \"rmse_std\": rmse_std, \"nmse\": nmse_cv, \"nmse_std\": nmse_std}\n",
    "\n",
    "# free move\n",
    "for name, model in baselines.items():\n",
    "    rmse_cv, nmse_cv, rmse_std, nmse_std = _logo_cv(X_f_train_preproc, y_f_train_preproc, model, groups_f)\n",
    "    cv_results_baselines_f[name] = {\"rmse\": rmse_cv, \"rmse_std\": rmse_std, \"nmse\": nmse_cv, \"nmse_std\": nmse_std}\n",
    "\n",
    "baselines_cv_df_g = pd.DataFrame(cv_results_baselines_g).T\n",
    "baselines_cv_df_f = pd.DataFrame(cv_results_baselines_f).T"
   ]
  },
  {
   "cell_type": "code",
   "execution_count": 61,
   "id": "47ee16b9",
   "metadata": {},
   "outputs": [
    {
     "data": {
      "text/html": [
       "<div>\n",
       "<style scoped>\n",
       "    .dataframe tbody tr th:only-of-type {\n",
       "        vertical-align: middle;\n",
       "    }\n",
       "\n",
       "    .dataframe tbody tr th {\n",
       "        vertical-align: top;\n",
       "    }\n",
       "\n",
       "    .dataframe thead th {\n",
       "        text-align: right;\n",
       "    }\n",
       "</style>\n",
       "<table border=\"1\" class=\"dataframe\">\n",
       "  <thead>\n",
       "    <tr style=\"text-align: right;\">\n",
       "      <th></th>\n",
       "      <th>rmse</th>\n",
       "      <th>rmse_std</th>\n",
       "      <th>nmse</th>\n",
       "      <th>nmse_std</th>\n",
       "    </tr>\n",
       "  </thead>\n",
       "  <tbody>\n",
       "    <tr>\n",
       "      <th>dummy_mean</th>\n",
       "      <td>14.259043</td>\n",
       "      <td>0.260633</td>\n",
       "      <td>0.437812</td>\n",
       "      <td>0.012145</td>\n",
       "    </tr>\n",
       "    <tr>\n",
       "      <th>ols</th>\n",
       "      <td>7.248052</td>\n",
       "      <td>0.489468</td>\n",
       "      <td>0.113622</td>\n",
       "      <td>0.015742</td>\n",
       "    </tr>\n",
       "    <tr>\n",
       "      <th>random_forest</th>\n",
       "      <td>5.094033</td>\n",
       "      <td>0.706987</td>\n",
       "      <td>0.056900</td>\n",
       "      <td>0.016322</td>\n",
       "    </tr>\n",
       "  </tbody>\n",
       "</table>\n",
       "</div>"
      ],
      "text/plain": [
       "                    rmse  rmse_std      nmse  nmse_std\n",
       "dummy_mean     14.259043  0.260633  0.437812  0.012145\n",
       "ols             7.248052  0.489468  0.113622  0.015742\n",
       "random_forest   5.094033  0.706987  0.056900  0.016322"
      ]
     },
     "execution_count": 61,
     "metadata": {},
     "output_type": "execute_result"
    }
   ],
   "source": [
    "baselines_cv_df_g"
   ]
  },
  {
   "cell_type": "code",
   "execution_count": 62,
   "id": "0e9f816e",
   "metadata": {},
   "outputs": [
    {
     "data": {
      "text/html": [
       "<div>\n",
       "<style scoped>\n",
       "    .dataframe tbody tr th:only-of-type {\n",
       "        vertical-align: middle;\n",
       "    }\n",
       "\n",
       "    .dataframe tbody tr th {\n",
       "        vertical-align: top;\n",
       "    }\n",
       "\n",
       "    .dataframe thead th {\n",
       "        text-align: right;\n",
       "    }\n",
       "</style>\n",
       "<table border=\"1\" class=\"dataframe\">\n",
       "  <thead>\n",
       "    <tr style=\"text-align: right;\">\n",
       "      <th></th>\n",
       "      <th>rmse</th>\n",
       "      <th>rmse_std</th>\n",
       "      <th>nmse</th>\n",
       "      <th>nmse_std</th>\n",
       "    </tr>\n",
       "  </thead>\n",
       "  <tbody>\n",
       "    <tr>\n",
       "      <th>dummy_mean</th>\n",
       "      <td>12.892779</td>\n",
       "      <td>1.769289</td>\n",
       "      <td>0.292550</td>\n",
       "      <td>0.024441</td>\n",
       "    </tr>\n",
       "    <tr>\n",
       "      <th>ols</th>\n",
       "      <td>11.372697</td>\n",
       "      <td>1.915888</td>\n",
       "      <td>0.226709</td>\n",
       "      <td>0.028622</td>\n",
       "    </tr>\n",
       "    <tr>\n",
       "      <th>random_forest</th>\n",
       "      <td>11.144964</td>\n",
       "      <td>1.921988</td>\n",
       "      <td>0.217799</td>\n",
       "      <td>0.029928</td>\n",
       "    </tr>\n",
       "  </tbody>\n",
       "</table>\n",
       "</div>"
      ],
      "text/plain": [
       "                    rmse  rmse_std      nmse  nmse_std\n",
       "dummy_mean     12.892779  1.769289  0.292550  0.024441\n",
       "ols            11.372697  1.915888  0.226709  0.028622\n",
       "random_forest  11.144964  1.921988  0.217799  0.029928"
      ]
     },
     "execution_count": 62,
     "metadata": {},
     "output_type": "execute_result"
    }
   ],
   "source": [
    "baselines_cv_df_f"
   ]
  },
  {
   "cell_type": "markdown",
   "id": "daebb50a",
   "metadata": {},
   "source": [
    "__Observations__:\n",
    "\n",
    "+ both models cut prediction error in half, this indicates that the dataset is relevant, meaning prediction/valuable information can be extracted from the features.\n",
    "\n",
    "+ evidence of linear structure, linear regression explains ~75% of the dummy mean variance (NMSE reduced by ~75%).\n",
    "\n",
    "+ additional non linear structure evidence, random forest further reduce prediction error (not as severe as from dummy to linear but still an early signal of 'structure')\n",
    "\n",
    "(interesting to see jumps from dummy mean to linear to non linear, can help visualize/sense complexity/assumptions impact gradually)\n"
   ]
  },
  {
   "cell_type": "code",
   "execution_count": 63,
   "id": "53c30fac",
   "metadata": {},
   "outputs": [],
   "source": [
    "# wont work with dummy mean no more\n",
    "del baselines['dummy_mean']"
   ]
  },
  {
   "cell_type": "markdown",
   "id": "6dd20456",
   "metadata": {},
   "source": [
    "#### 2) Feature importance\n",
    "\n",
    "informative, to be used in feature selection, it must be done correctly avoiding leakage (see step 3 below)."
   ]
  },
  {
   "cell_type": "markdown",
   "id": "147bbbfd",
   "metadata": {},
   "source": [
    "__OLS__\n",
    "\n",
    "```python\n",
    "coef_ = [w_1_1, w_1_2, ..., w_1_48],  # weights of model 1\n",
    "        ...\n",
    "        [w_51_1, ..., w_51_48]        # weights of model 51\n",
    "```\n",
    "For interpretability and to get a general insight we aggregate the feature importances across all outputs by taking the mean (abs to avoid negative weights to cancel out).\n",
    "\n",
    "(inspired by [external src](https://sourcebae.com/blog/how-to-get-coefficients-and-feature-importances-from-multioutputregressor/) and Tp5)"
   ]
  },
  {
   "cell_type": "code",
   "execution_count": 72,
   "id": "bdd88453",
   "metadata": {},
   "outputs": [
    {
     "data": {
      "image/png": "[encoded data removed]",
      "text/plain": [
       "<Figure size 1000x500 with 1 Axes>"
      ]
     },
     "metadata": {},
     "output_type": "display_data"
    },
    {
     "data": {
      "image/png": "[encoded data removed]",
      "text/plain": [
       "<Figure size 1000x500 with 1 Axes>"
      ]
     },
     "metadata": {},
     "output_type": "display_data"
    }
   ],
   "source": [
    "baseline_ols = baselines['ols']\n",
    "column_names = X_g_train_preproc.columns\n",
    "\n",
    "def plot_ols_coefs(ols_reg, title:str):\n",
    "    aggr_coef = np.mean(np.abs(ols_reg.coef_), axis=0) # average on columns\n",
    "    ols_sorted_idx = np.argsort(aggr_coef)[::-1] # descending order\n",
    "\n",
    "    plt.figure(figsize=(10, 5))\n",
    "    plt.bar(range(len(aggr_coef)), aggr_coef[ols_sorted_idx], align='center')\n",
    "    plt.xticks(range(len(aggr_coef)), column_names[ols_sorted_idx], rotation=45)\n",
    "    plt.xlabel(\"weights associated features \")\n",
    "    plt.ylabel(\"aggregated |coef|\")\n",
    "    plt.title(f\"[{title}] OLS aggregated feature weights\")\n",
    "    plt.tight_layout()\n",
    "    plt.show()\n",
    "\n",
    "baseline_ols.fit(X_g_train_preproc, y_g_train_preproc)\n",
    "plot_ols_coefs(baseline_ols[-1], \"Guided\")\n",
    "\n",
    "baseline_ols.fit(X_f_train_preproc, y_f_train_preproc)\n",
    "plot_ols_coefs(baseline_ols[-1], \"Free move\")\n"
   ]
  },
  {
   "cell_type": "markdown",
   "id": "477dd092",
   "metadata": {},
   "source": [
    "Observations: \n",
    "\n",
    "+ STD and RMS leading weights, other features nearly dropped, not considered. Coherence between guided and free moves\n",
    "+ electrodes 2 and 3 dominant\n",
    "+ hald the features are not considered/impactful, feature selection might be relevant"
   ]
  },
  {
   "cell_type": "markdown",
   "id": "d5de0e79",
   "metadata": {},
   "source": [
    "__Random forest__\n",
    "\n",
    "We use the built in fitted 'features_importances_' attribute, but lets explain what exactly it represents, how is it calculated to interpret these scores at a deeper level than a simple ranking (might give deeper insights for next steps searhc direction).\n",
    "\n",
    "For a feature j, each tree measures the total (sum) variance reduction (impurity) across all 51 outputs of every node splitting on j, summing the score for every such node in the tree, then, at forest level, this score is averaged over all tress to get the final importance score (then normalized)\n",
    "\n",
    "Interpretation: how much on average splitting on that feature reduced impurity in the whole forest across all targets"
   ]
  },
  {
   "cell_type": "code",
   "execution_count": 67,
   "id": "bb930d76",
   "metadata": {},
   "outputs": [
    {
     "data": {
      "image/png": "[encoded data removed]",
      "text/plain": [
       "<Figure size 1000x500 with 1 Axes>"
      ]
     },
     "metadata": {},
     "output_type": "display_data"
    },
    {
     "data": {
      "image/png": "[encoded data removed]",
      "text/plain": [
       "<Figure size 1000x500 with 1 Axes>"
      ]
     },
     "metadata": {},
     "output_type": "display_data"
    }
   ],
   "source": [
    "column_names = X_g_train_preproc.columns\n",
    "baseline_rf = baselines['random_forest']\n",
    "\n",
    "def plot_rf_feat_imp(rf_reg, title:str):\n",
    "    feat_imp = rf_reg.feature_importances_\n",
    "    sorted_idx = np.argsort(feat_imp)[::-1] # descending order\n",
    "\n",
    "    plt.figure(figsize=(10, 5))\n",
    "    plt.bar(range(len(feat_imp)), feat_imp[sorted_idx], align='center')\n",
    "    plt.xticks(range(len(feat_imp)), column_names[sorted_idx], rotation=45)\n",
    "    plt.xlabel(\"features\")\n",
    "    plt.ylabel(\"importance\")\n",
    "    plt.title(\"Random Forest feature importances\")\n",
    "    plt.tight_layout()\n",
    "    plt.show()\n",
    "\n",
    "baseline_rf.fit(X_g_train_preproc, y_g_train_preproc)\n",
    "plot_rf_feat_imp(baseline_rf, \"Guided\")\n",
    "\n",
    "baseline_rf.fit(X_f_train_preproc, y_f_train_preproc)\n",
    "plot_rf_feat_imp(baseline_rf, \"Guided\")"
   ]
  },
  {
   "cell_type": "markdown",
   "id": "bf713b29",
   "metadata": {},
   "source": [
    "Observations:\n",
    "+  Guided and free move nto coherant"
   ]
  },
  {
   "cell_type": "markdown",
   "id": "65a1c2fa",
   "metadata": {},
   "source": [
    "#### 3) Feature selection\n",
    "\n",
    "We experiment feature selection on baseline models with 2 different feature selection strategies (filter and embedded) through a cross validated pipeline to avoid **data leakage**.\n",
    "\n",
    "- If done separately (rank features before), features scores are computed using validation set information, so selection is done with data leakage.\n",
    "\n",
    "**note**: We dont do hyper parametre tuning yet, the goal is to find the best (model + feature selection strategy) combination with default models. Even if hyperparametres logically can interact with feature selection, it is a trade off we accept (for the reasons explained above), if we had to handle it, it would be done with [nested cv](https://scikit-learn.org/stable/auto_examples/model_selection/plot_nested_cross_validation_iris.html) to avoid leakage (tune and eval on same data).\n",
    "\n",
    "(inspired from Tp5 and Tp3)"
   ]
  },
  {
   "cell_type": "markdown",
   "id": "c7f959b2",
   "metadata": {},
   "source": [
    "__PCA__\n",
    "\n",
    "method by hand and pipeline + grid search were implemented, both result in same results, second method less prone to error (leak) and faster (gridsearch api optimized), so first one is here for justification and ensure results coherance both ways.\n",
    "\n",
    "(We add a standardization step to every pipeline using PCA as it is scale sensitive, to avoid biased components)"
   ]
  },
  {
   "cell_type": "code",
   "execution_count": null,
   "id": "e2b7eafc",
   "metadata": {},
   "outputs": [],
   "source": [
    "\"\"\"\n",
    "cv_results = \n",
    "    [\n",
    "        [fold1_1c, fold2_1c, ... fold5_1c],\n",
    "        [fold1_2c, fold2_2c, ... fold5_2c],\n",
    "        ...\n",
    "        [fold1_48c, fold2_48c, ... fold5_48c],\n",
    "    ]\n",
    "\"\"\"\n",
    "\n",
    "n_features = X_g_train_preproc.shape[1]\n",
    "\n",
    "def pca_loop_feat_selec(model):\n",
    "    CV_err = np.zeros((n_features,n_sessions)) # (48, 5)\n",
    "    for fold, (train_index, test_index) in enumerate(logo.split(X_g_train_preproc, y_g_train_preproc, groups=groups)):\n",
    "        X_tr, X_ts = X_g_train_preproc.iloc[train_index], X_g_train_preproc.iloc[test_index]\n",
    "        y_tr, y_ts = y_g_train_preproc[train_index], y_g_train_preproc[test_index]\n",
    "        \n",
    "        # fold independant PCA - no leaking\n",
    "        pca = PCA(random_state=0)\n",
    "        scaler = StandardScaler()\n",
    "        X_tr_scaled = scaler.fit_transform(X_tr)\n",
    "        X_tr_pca = pca.fit_transform(X_tr_scaled)\n",
    "        X_ts_scaled = scaler.transform(X_ts) # transform with fitted params on X_tr !\n",
    "        X_ts_pca = pca.transform(X_ts_scaled) # transform with fitted params on X_tr !\n",
    "        for k in range(n_features):\n",
    "            model.fit(X_tr_pca[:, :k+1], y_tr) # train on k-best components\n",
    "            y_hat = model.predict(X_ts_pca[:, :k+1])\n",
    "            CV_err[k, fold] = rmse(y_hat, y_ts)\n",
    "\n",
    "    best_n_components = 1\n",
    "    best_cv_rmse = float('inf')\n",
    "    for k in range(n_features):\n",
    "        cv_rmse = np.mean(CV_err[k])\n",
    "        if cv_rmse < best_cv_rmse:\n",
    "            best_n_components = k+1 # (we worked with index nto with n_components)\n",
    "            best_cv_rmse = cv_rmse\n",
    "    \n",
    "    return best_n_components, best_cv_rmse\n",
    "\n",
    "def pca_grid_feat_selec(model, scorer=rmse_scorer):\n",
    "    pipe = make_pipeline(\n",
    "        StandardScaler(),\n",
    "        PCA(),\n",
    "        model\n",
    "    )\n",
    "\n",
    "    param_grid = {'pca__n_components': [i for i in range(1, n_features+1)]}\n",
    "\n",
    "    grid = GridSearchCV(pipe, param_grid, cv=logo, scoring=scorer, n_jobs=-1)\n",
    "    grid.fit(X_g_train_preproc, y_g_train_preproc, groups=groups)\n",
    "\n",
    "    best_n_components = grid.best_params_['pca__n_components']\n",
    "    best_cv_rmse = -grid.best_score_\n",
    "    \n",
    "    return best_n_components, best_cv_rmse"
   ]
  },
  {
   "cell_type": "code",
   "execution_count": 30,
   "id": "ef9cd540",
   "metadata": {},
   "outputs": [
    {
     "name": "stdout",
     "output_type": "stream",
     "text": [
      "[OLS] Optimal #components = 44 with cv rmse = 7.2469824568609225\n",
      "[random_forest] Optimal #components = 29 with cv rmse = 5.932865285720984\n"
     ]
    }
   ],
   "source": [
    "for name, model in baselines.items():\n",
    "    best_n_components, best_cv_rmse = pca_grid_feat_selec(model)\n",
    "    # best_n_components, best_cv_rmse = pca_loop_feat_selec(model)\n",
    "\n",
    "    print(f\"[{name}] Optimal #components = {best_n_components} with cv rmse = {best_cv_rmse}\")"
   ]
  },
  {
   "cell_type": "markdown",
   "id": "343f26ec",
   "metadata": {},
   "source": [
    "Observations: \n",
    "\n",
    "for random forest, this method doesnt outperform raw model as the scaling step might weaken previously clear / obvious splits. We get improvements without the scalign step but still less then next method and not 'guideline' (PCA requires scaling so if it underperforms then PCA shoudlnt be used with tree based models)"
   ]
  },
  {
   "cell_type": "markdown",
   "id": "a7f5cb1d",
   "metadata": {},
   "source": [
    "__Embedded__\n",
    "\n",
    "We set threshold=0 to have 'pure' feature selection, otherwise some features get discarded as the default threshold uses a mean strategy.\n",
    "\n",
    "We use same model for pipeline final estimator and embedded feature importances estimator by convention (could try all 4 combinations) as both models have native feature importances (coefs_, feature_importances_) and thus are supported by SelectFromModel."
   ]
  },
  {
   "cell_type": "code",
   "execution_count": 14,
   "id": "9f81398c",
   "metadata": {},
   "outputs": [],
   "source": [
    "def embeded_grid_feat_selec(model, scorer=rmse_scorer):\n",
    "    pipe = Pipeline([\n",
    "        ('select', SelectFromModel(model, threshold=0)),\n",
    "        ('model', model)\n",
    "    ])\n",
    "\n",
    "    # param_grid = {'selectfrommodel__max_features': [i for i in range(1, n_features+1)]}\n",
    "    param_grid = {'select__max_features': [i for i in range(1, n_features+1)]}\n",
    "\n",
    "    grid = GridSearchCV(pipe, param_grid, cv=logo, scoring=scorer, n_jobs=-1)\n",
    "    grid.fit(X_g_train_preproc, y_g_train_preproc, groups=groups)\n",
    "\n",
    "    best_n_features = grid.best_params_['select__max_features']\n",
    "    best_cv_rmse = -grid.best_score_\n",
    "    \n",
    "    return best_n_features, best_cv_rmse"
   ]
  },
  {
   "cell_type": "code",
   "execution_count": 66,
   "id": "4c63ee9b",
   "metadata": {},
   "outputs": [
    {
     "name": "stdout",
     "output_type": "stream",
     "text": [
      "[OLS] Optimal #features = 48 with cv rmse = 7.248052301254961\n",
      "[random_forest] Optimal #features = 34 with cv rmse = 4.960515907891919\n"
     ]
    }
   ],
   "source": [
    "for name, model in baselines.items():\n",
    "    best_n_features, best_cv_rmse = embeded_grid_feat_selec(model)\n",
    "    \n",
    "    print(f\"[{name}] Optimal #features = {best_n_features} with cv rmse = {best_cv_rmse}\")"
   ]
  },
  {
   "cell_type": "markdown",
   "id": "543eebf3",
   "metadata": {},
   "source": [
    "#### 4) Final baseline\n",
    "\n",
    "Select as final baseline, the best performing [feature selection + baseline model] combination explored (infinite possibilities)."
   ]
  },
  {
   "cell_type": "code",
   "execution_count": 15,
   "id": "d0ef6250",
   "metadata": {},
   "outputs": [],
   "source": [
    "base_baseline = RandomForestRegressor(n_jobs=-1, random_state=0, n_estimators=10)\n",
    "best_baseline_pipe = make_pipeline(\n",
    "    FeatureExtractor(),\n",
    "    SelectFromModel(base_baseline, threshold=0, max_features=34),\n",
    "    base_baseline\n",
    ")"
   ]
  },
  {
   "cell_type": "code",
   "execution_count": 22,
   "id": "37a607e7",
   "metadata": {},
   "outputs": [
    {
     "name": "stdout",
     "output_type": "stream",
     "text": [
      "(1660, 51)\n",
      "(1540, 51)\n",
      "final pred array shape (3200, 51)\n"
     ]
    }
   ],
   "source": [
    "# Guided\n",
    "best_baseline_pipe.fit(X_g_train_wdw, y_g_train_preproc) # train on windowed data since pipeline must contain Feature extractor to predict not preprocessed X_g_test, since X_g_train_preproc already preprocessed \n",
    "guided_predictions = best_baseline_pipe.predict(X_g_test)\n",
    "print(guided_predictions.shape)\n",
    "\n",
    "# Freemove\n",
    "X_f_train_wdw = XWindowAugment().transform(X_f_train)\n",
    "y_f_train_wdw = yWindowAugment().transform(y_f_train)\n",
    "y_f_train_preproc = TargetFlattener().transform(y_f_train_wdw)\n",
    "\n",
    "best_baseline_pipe.fit(X_f_train_wdw, y_f_train_preproc)\n",
    "freemoves_predictions = best_baseline_pipe.predict(X_f_test)\n",
    "print(freemoves_predictions.shape)\n",
    "\n",
    "# baseline prediction file\n",
    "baseline_predictions = np.vstack((guided_predictions, freemoves_predictions))\n",
    "print(f\"final pred array shape {baseline_predictions.shape}\")\n",
    "\n",
    "baseline_predictions_df = pd.DataFrame(baseline_predictions)\n",
    "baseline_predictions_df.to_csv(f'{pred_dir}/baseline_predictions.csv', index=False)"
   ]
  },
  {
   "cell_type": "markdown",
   "id": "ee15d3e9",
   "metadata": {},
   "source": [
    "___\n",
    "\n",
    "## More complex approaches"
   ]
  }
 ],
 "metadata": {
  "kernelspec": {
   "display_name": "sfml",
   "language": "python",
   "name": "python3"
  },
  "language_info": {
   "codemirror_mode": {
    "name": "ipython",
    "version": 3
   },
   "file_extension": ".py",
   "mimetype": "text/x-python",
   "name": "python",
   "nbconvert_exporter": "python",
   "pygments_lexer": "ipython3",
   "version": "3.12.9"
  }
 },
 "nbformat": 4,
 "nbformat_minor": 5
}
