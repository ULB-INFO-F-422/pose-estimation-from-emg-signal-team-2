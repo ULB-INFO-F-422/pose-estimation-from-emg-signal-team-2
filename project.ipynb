{
 "cells": [
  {
   "cell_type": "markdown",
   "id": "146fe39b",
   "metadata": {},
   "source": [
    "# (INFO-F422) Statistical foundations of machine learning: Project 24-25\n",
    "\n",
    "description: regression task, predict continuous hand proshtesis movement through short time-windows hand pose (angles) from forearm electrode sensors. \n",
    "\n",
    "+ RACHIK Hilal (520550)\n",
    "+ MEHALLI Mohamed-Khalil\n",
    "+ GUILLAUME Maxime"
   ]
  },
  {
   "cell_type": "markdown",
   "id": "c88dbe98",
   "metadata": {},
   "source": [
    "___\n",
    "\n",
    "## Imports"
   ]
  },
  {
   "cell_type": "code",
   "execution_count": 2,
   "id": "1dce9f7a",
   "metadata": {},
   "outputs": [],
   "source": [
    "# models\n",
    "from sklearn.linear_model import LinearRegression, Lasso\n",
    "from sklearn.ensemble import RandomForestRegressor\n",
    "from sklearn.dummy import DummyRegressor\n",
    "\n",
    "# model selection\n",
    "from sklearn.model_selection import LeaveOneGroupOut, cross_val_score, GridSearchCV, cross_val_predict\n",
    "from sklearn.metrics import make_scorer, mean_squared_error\n",
    "from sklearn.decomposition import PCA\n",
    "\n",
    "# preprocessing\n",
    "from sklearn.base import BaseEstimator, TransformerMixin\n",
    "from sklearn.pipeline import Pipeline, make_pipeline\n",
    "from sklearn.preprocessing import StandardScaler\n",
    "from sklearn.feature_selection import SelectFromModel\n",
    "from pyriemann.estimation import Covariances\n",
    "from pyriemann.tangentspace import TangentSpace\n",
    "\n",
    "# torch/skorch\n",
    "import torch\n",
    "import torch.nn as nn\n",
    "from skorch import NeuralNetRegressor\n",
    "from skorch.callbacks import EarlyStopping\n",
    "from skorch.callbacks import LRScheduler\n",
    "\n",
    "# utils\n",
    "import pandas as pd\n",
    "import numpy as np\n",
    "import matplotlib.pyplot as plt\n",
    "\n",
    "# q8\n",
    "import time\n",
    "import threading\n",
    "from pose_streamer import Pose_Streamer"
   ]
  },
  {
   "cell_type": "markdown",
   "id": "96992cb5",
   "metadata": {},
   "source": [
    "___\n",
    "\n",
    "## Data loading"
   ]
  },
  {
   "cell_type": "code",
   "execution_count": 3,
   "id": "bbfce02e",
   "metadata": {},
   "outputs": [],
   "source": [
    "data_dir = \"data\"\n",
    "pred_dir = \"results\"\n",
    "\n",
    "X_g_train = np.load(f\"{data_dir}/guided/guided_dataset_X.npy\")\n",
    "y_g_train = np.load(f\"{data_dir}/guided/guided_dataset_y.npy\")\n",
    "X_g_test = np.load(f\"{data_dir}/guided/guided_testset_X.npy\")\n",
    "\n",
    "X_f_train = np.load(f\"{data_dir}/freemoves/freemoves_dataset_X.npy\")\n",
    "y_f_train = np.load(f\"{data_dir}/freemoves/freemoves_dataset_y.npy\")\n",
    "X_f_test = np.load(f\"{data_dir}/freemoves/freemoves_testset_X.npy\")\n"
   ]
  },
  {
   "cell_type": "code",
   "execution_count": 4,
   "id": "043d6283",
   "metadata": {},
   "outputs": [
    {
     "name": "stdout",
     "output_type": "stream",
     "text": [
      "Guided:\n",
      "X_g_train (5, 8, 230000) / y_g_train(5, 51, 230000) / X_g_test(5, 332, 8, 500)\n",
      "\n",
      "Free moves:\n",
      "X_f_train(5, 8, 270000) / y_f_train(5, 51, 270000) / X_f_test(5, 308, 8, 500)\n"
     ]
    }
   ],
   "source": [
    "print(\"Guided:\")\n",
    "print(f\"X_g_train {X_g_train.shape} / y_g_train{y_g_train.shape} / X_g_test{X_g_test.shape}\\n\")\n",
    "print(\"Free moves:\")\n",
    "print(f\"X_f_train{X_f_train.shape} / y_f_train{y_f_train.shape} / X_f_test{X_f_test.shape}\")"
   ]
  },
  {
   "cell_type": "markdown",
   "id": "1846d1aa",
   "metadata": {},
   "source": [
    "___\n",
    "\n",
    "## Data preparation\n",
    "\n",
    "For window augmentation, after some research we decided to use numpy's sliding_window_view function over the nested loop implementation, with motivations:\n",
    "\n",
    "+ Fast vectorized numpy operations (also compiled c-code, no python overhead, interpreter).\n",
    "+ Simplifies implementation by automating window slicing.\n",
    "+ view instead if copy (more efficient)\n",
    "\n",
    "For taregt extraction (from window) we keep the last hand pose, the motivation behind this choice is simple as it is the most relevant pose to express \\\n",
    "what the electrodes signals 'represented'/were responsible of during the time window (any earlier pose could miss information)."
   ]
  },
  {
   "cell_type": "code",
   "execution_count": 5,
   "id": "7a20bb4c",
   "metadata": {},
   "outputs": [],
   "source": [
    "class XWindowAugment(BaseEstimator, TransformerMixin):\n",
    "    \"\"\"\n",
    "    Augment X through overlapping windows\n",
    "    \"\"\"\n",
    "    \n",
    "    def __init__(self, window_size=500, overlap=0.5):\n",
    "        self.window_size = window_size\n",
    "        self.overlap = overlap\n",
    "    \n",
    "    def fit(self, X, y=None):\n",
    "        return self\n",
    "    \n",
    "    def transform(self, X, y=None):\n",
    "        axis = 2 # time\n",
    "        step = int(self.window_size * (1 - self.overlap))\n",
    "        \n",
    "        # sliding_windows_view Generate all possible windows with the corresponding step, that not what we want.\n",
    "        X_windows = np.lib.stride_tricks.sliding_window_view(X,self.window_size, axis)\n",
    "\n",
    "        # only keep windows where the step is a multiple of our step \n",
    "        X_windows = X_windows[:,:,::step,:]\n",
    "         \n",
    "        # (session, electrode, window, time) to (session, window, electrode, time)\n",
    "        X_windows = X_windows.transpose(0, 2, 1, 3) \n",
    "        \n",
    "        return X_windows   "
   ]
  },
  {
   "cell_type": "code",
   "execution_count": 6,
   "id": "95487ac0",
   "metadata": {},
   "outputs": [],
   "source": [
    "class yWindowAugment(BaseEstimator, TransformerMixin):\n",
    "    \"\"\"\n",
    "    + Augment y through overlapping windows \n",
    "    + Extract target of correspondoing windows\n",
    "    \"\"\"\n",
    "    \n",
    "    def __init__(self, window_size=500, overlap=0.5):\n",
    "        self.window_size = window_size\n",
    "        self.overlap = overlap\n",
    "    \n",
    "    def fit(self, y, X=None):\n",
    "        return self\n",
    "    \n",
    "    def transform(self, y, X=None):\n",
    "        axis = 2 # time\n",
    "        step = int(self.window_size * (1 - self.overlap))\n",
    "        \n",
    "        # ----- window augment -----\n",
    "        \n",
    "        # sliding_windows_view Generate all possible windows with the corresponding step, that not what we want.\n",
    "        y_windows = np.lib.stride_tricks.sliding_window_view(y,self.window_size, axis)\n",
    "\n",
    "        # only keep windows where the step is a multiple of our step \n",
    "        y_windows = y_windows[:,:,::step,:]\n",
    "         \n",
    "        # (session, angles, window, time) to (session, window, angles, time)\n",
    "        y_windows = y_windows.transpose(0, 2, 1, 3)     \n",
    "        \n",
    "        # ----- target extract -----\n",
    "        y_windows = y_windows[:, :, :, -1] # keep last hand pose as window target\n",
    "        \n",
    "        return y_windows"
   ]
  },
  {
   "cell_type": "markdown",
   "id": "6acc7ff2",
   "metadata": {},
   "source": [
    "Windowed data"
   ]
  },
  {
   "cell_type": "code",
   "execution_count": 7,
   "id": "5ee93fdc",
   "metadata": {},
   "outputs": [
    {
     "name": "stdout",
     "output_type": "stream",
     "text": [
      "Guided windowed:\n",
      "X_g_train_wdw (5, 919, 8, 500) / X_g_test (5, 332, 8, 500)\n",
      "y_g_train_wdw(5, 919, 51)\n",
      "\n",
      "Free moves windowed:\n",
      "X_f_train_wdw (5, 1079, 8, 500) / X_f_test (5, 308, 8, 500)\n",
      "y_f_train_wdw(5, 1079, 51)\n"
     ]
    }
   ],
   "source": [
    "X_g_train_wdw = XWindowAugment().transform(X_g_train)\n",
    "y_g_train_wdw = yWindowAugment().transform(y_g_train)\n",
    "\n",
    "X_f_train_wdw = XWindowAugment().transform(X_f_train)\n",
    "y_f_train_wdw = yWindowAugment().transform(y_f_train)\n",
    "\n",
    "print(\"Guided windowed:\")\n",
    "print(f\"X_g_train_wdw {X_g_train_wdw.shape} / X_g_test {X_g_test.shape}\")\n",
    "print(f\"y_g_train_wdw{y_g_train_wdw.shape}\\n\")\n",
    "\n",
    "print(\"Free moves windowed:\")\n",
    "print(f\"X_f_train_wdw {X_f_train_wdw.shape} / X_f_test {X_f_test.shape}\")\n",
    "print(f\"y_f_train_wdw{y_f_train_wdw.shape}\")"
   ]
  },
  {
   "cell_type": "markdown",
   "id": "cd271bc0",
   "metadata": {},
   "source": [
    "___\n",
    "\n",
    "## Evaluation metrics\n",
    "\n",
    "Before evaluating models, lets explain both metrics that we will use so we can better interpret results later on.\n",
    "\n",
    "+ RMSE\n",
    "\n",
    "Epressed in same units as target, measures average prediction error. \n",
    "\n",
    "(Lower RMSE better, RMSE of 0 is perfect score)\n",
    "\n",
    "+ NMSE\n",
    "\n",
    "Normalize MSE by the target variance. \\\n",
    "Usefull to consider next to RMSE as it take into account prediction \"variability\" (can distinguish 2 estimators that are very close under RMSE) \\\n",
    "Interesting poitn is that it has a sort of builtin baseline as NMSE of 1 is equivalent to simply predicting the mean.\n",
    "\n",
    "(Lower NMSE better, NMSE of 0 is perfect score)\n",
    "\n"
   ]
  },
  {
   "cell_type": "markdown",
   "id": "03415553",
   "metadata": {},
   "source": [
    "___\n",
    "\n",
    "## Cross validation strategy\n",
    "\n",
    "We have signal/sensor data, so we must preserve temporal structure but adressing the data overlapping, this led us to chose __session based LeaveOneGroupOut__:\n",
    "\n",
    "+ no **window overlap leakage**, overlapping windows from the same session share data, folding by session avoids this leakage completely. \n",
    "\n",
    "+ avoids potential __session bias__, such as [sensor drift](https://gebrabit.com/what-does-sensor-drift-mean/), electrode (sensors) placements, experiment conditions, ... (potential bias as exact experiment conditions not documented precisely, but we think we can assume these biases without being optimistic).\n",
    "\n",
    "(Could have used GroupKFold(5), produce same splits and can be more convienient with different input shapes without managing groups variable, but already started with LeaveOneGroupOut and less explicit)\n"
   ]
  },
  {
   "cell_type": "code",
   "execution_count": 8,
   "id": "ffa6fc73",
   "metadata": {},
   "outputs": [],
   "source": [
    "# Guided session groups\n",
    "n_sessions_g, n_windows_g, n_electrodes_g, n_times_g = X_g_train_wdw.shape\n",
    "groups_g = np.repeat(np.arange(1, n_sessions_g+1), n_windows_g) # [1 ... 1], [2 ... 2], ..., [5 ...5] (each group of lenght n_windows)\n",
    "\n",
    "# Free move session groups\n",
    "n_sessions_f, n_windows_f, n_electrodes_f, n_times_f = X_f_train_wdw.shape\n",
    "groups_f = np.repeat(np.arange(1,n_sessions_f+1), n_windows_f)"
   ]
  },
  {
   "cell_type": "code",
   "execution_count": 9,
   "id": "81bc65c3",
   "metadata": {},
   "outputs": [],
   "source": [
    "# loss functions\n",
    "def rmse(y_true, y_hat):\n",
    "    return np.sqrt(np.mean((y_true-y_hat)**2))\n",
    "def nmse(y_true, y_hat):\n",
    "    return np.mean((y_true-y_hat)**2)/np.std(y_true)**2\n",
    "\n",
    "# scorers\n",
    "rmse_scorer = make_scorer(rmse, greater_is_better=False)\n",
    "nmse_scorer = make_scorer(nmse, greater_is_better=False)\n",
    "\n",
    "# cv function \n",
    "logo = LeaveOneGroupOut()\n",
    "def logo_cv(X, y, model, groups, scorer=rmse_scorer):\n",
    "    cv_scores = cross_val_score(model, X, y, groups=groups, cv=logo, scoring=scorer, n_jobs=-1)\n",
    "    return np.mean(-cv_scores)"
   ]
  },
  {
   "cell_type": "code",
   "execution_count": 10,
   "id": "48a3f66c-75d3-4f56-8562-e70d5412c8dd",
   "metadata": {},
   "outputs": [],
   "source": [
    "# custom by hand (allow for more flexible measurements within same folds - 2 metrics, std devs, ...)\n",
    "def _logo_cv(X, y, model, groups):\n",
    "    nmse_results = []\n",
    "    rmse_results = []\n",
    "    for train_index, test_index in logo.split(X, y, groups):\n",
    "        X_tr, X_ts = None, None\n",
    "        if isinstance(X, pd.DataFrame):\n",
    "            X_tr, X_ts = X.iloc[train_index], X.iloc[test_index] \n",
    "        else:\n",
    "            X_tr, X_ts = X[train_index], X[test_index] \n",
    "            \n",
    "        y_tr, y_ts = y[train_index], y[test_index]\n",
    "        \n",
    "        model.fit(X_tr, y_tr)\n",
    "        y_hat = model.predict(X_ts)\n",
    "        rmse_results.append(rmse(y_ts, y_hat))\n",
    "        nmse_results.append(nmse(y_ts, y_hat))\n",
    "    \n",
    "    rmse_cv, rmse_std = np.mean(rmse_results), np.std(rmse_results)\n",
    "    nmse_cv, nmse_std = np.mean(nmse_results), np.std(nmse_results)\n",
    "    return rmse_cv, nmse_cv, rmse_std, nmse_std"
   ]
  },
  {
   "cell_type": "markdown",
   "id": "14a863bc",
   "metadata": {},
   "source": [
    "Here we see folds content (groups appearing in sets), how sessions are split with logo cv keeping trainign and validation sets independant."
   ]
  },
  {
   "cell_type": "code",
   "execution_count": 13,
   "id": "94daa6f6",
   "metadata": {},
   "outputs": [
    {
     "name": "stdout",
     "output_type": "stream",
     "text": [
      "Fold 0\n",
      "   train groups: [2 3 4 5]\n",
      "   test groups: [1]\n",
      "Fold 1\n",
      "   train groups: [1 3 4 5]\n",
      "   test groups: [2]\n",
      "Fold 2\n",
      "   train groups: [1 2 4 5]\n",
      "   test groups: [3]\n",
      "Fold 3\n",
      "   train groups: [1 2 3 5]\n",
      "   test groups: [4]\n",
      "Fold 4\n",
      "   train groups: [1 2 3 4]\n",
      "   test groups: [5]\n"
     ]
    }
   ],
   "source": [
    "x_shape = X_g_train_wdw.shape\n",
    "y_shape = y_g_train_wdw.shape\n",
    "\n",
    "X_g_train_wdw_flat = X_g_train_wdw.reshape(x_shape[0] * x_shape[1], x_shape[2] * x_shape[3])\n",
    "y_g_train_wdw_flat = y_g_train_wdw.reshape(y_shape[0] * y_shape[1], y_shape[2])\n",
    "\n",
    "for i, (train_index, test_index) in enumerate(logo.split(X_g_train_wdw_flat, y_g_train_wdw_flat, groups_g)):\n",
    "    print(f\"Fold {i}\")\n",
    "    print(f\"   train groups: {np.unique(groups_g[train_index])}\")\n",
    "    print(f\"   test groups: {np.unique(groups_g[test_index])}\")"
   ]
  },
  {
   "cell_type": "markdown",
   "id": "1a9a055b",
   "metadata": {},
   "source": [
    "___\n",
    "\n",
    "## Common time features extraction\n",
    "\n",
    "+ Mean Absolute Value (MAV)\n",
    "+ Root Mean Square (RMS)\n",
    "+ Variance (VAR)\n",
    "+ Standard Deviation (STD)\n",
    "+ Zero Crossing (ZC)\n",
    "+ Myopulse Percentage Rate (MPR)"
   ]
  },
  {
   "cell_type": "code",
   "execution_count": 7,
   "id": "0dd36ca2",
   "metadata": {},
   "outputs": [],
   "source": [
    "class FeatureExtractor(BaseEstimator, TransformerMixin):\n",
    "    \"\"\"\n",
    "    Extracts common time-domain features, from numpy arrays into a dataframe\n",
    "    \"\"\"\n",
    "\n",
    "    def __init__(self, mpr_threshold=0.5):\n",
    "        self.mpr_threshold = mpr_threshold\n",
    "\n",
    "    def fit(self, X, y=None):\n",
    "        return self\n",
    "\n",
    "    def transform(self, X, y=None):        \n",
    "        # --- Feature extraction ---\n",
    "        feature_names = [\"MAV\", \"RMS\", \"VAR\", \"STD\", \"ZC\", \"MPR\"]\n",
    "        n_features = len(feature_names)\n",
    "        \n",
    "        n_sessions, n_windows, n_electrodes, n_times = X.shape\n",
    "        features = np.zeros((n_sessions * n_windows, n_electrodes * n_features))\n",
    "        \n",
    "        for s in range(n_sessions):\n",
    "            for w in range(n_windows):\n",
    "                i = s*n_windows + w # index in flattened contiguous windows samples 'form'\n",
    "                wdw_features = []\n",
    "                for e in range(n_electrodes):\n",
    "                    signal = X[s, w, e, :] # window signal\n",
    "                    \n",
    "                    mav = np.mean(np.abs(signal))\n",
    "                    rms = np.sqrt(np.mean(signal**2))\n",
    "                    var = np.var(signal)\n",
    "                    std = np.std(signal)\n",
    "                    zc = np.sum(np.diff(np.signbit(signal)).astype(int))\n",
    "                    mpr = np.mean(np.abs(signal) > self.mpr_threshold)    \n",
    "                    wdw_features.extend([mav, rms, var, std, zc, mpr])\n",
    "                \n",
    "                features[i, :] = wdw_features\n",
    "        \n",
    "        # --- to Dataframe ---            \n",
    "        column_names = [f\"elec{e}_{name}\" for e in range(n_electrodes) for name in feature_names]\n",
    "        df = pd.DataFrame(features, columns=column_names)\n",
    "        \n",
    "        return df"
   ]
  },
  {
   "cell_type": "code",
   "execution_count": 8,
   "id": "2d8a6ab3",
   "metadata": {},
   "outputs": [],
   "source": [
    "class TargetFlattener(BaseEstimator, TransformerMixin):\n",
    "    \"\"\"\n",
    "    Flatten feature set for sklearn usability\n",
    "    \"\"\"\n",
    "\n",
    "    def fit(self, y, X=None):\n",
    "        return self\n",
    "\n",
    "    def transform(self, y, X=None):      \n",
    "        \n",
    "        # -- Reshape --\n",
    "        n_sessions, n_windows, n_angles = y.shape\n",
    "        \n",
    "        # Reshape to (sessions*windows, angles)\n",
    "        y_flat = y.reshape(n_sessions * n_windows, n_angles)\n",
    "        \n",
    "        return y_flat"
   ]
  },
  {
   "cell_type": "markdown",
   "id": "3934070c",
   "metadata": {},
   "source": [
    "Features extracted data "
   ]
  },
  {
   "cell_type": "code",
   "execution_count": 9,
   "id": "81120ae9",
   "metadata": {},
   "outputs": [
    {
     "name": "stdout",
     "output_type": "stream",
     "text": [
      "Guided preprocessed:\n",
      "X_g_train_preproc (4595, 48)\n",
      "y_g_train_preproc(4595, 51)\n",
      "\n",
      "Free move preprocessed:\n",
      "X_f_train_preproc (5395, 48)\n",
      "y_f_train_preproc(5395, 51)\n"
     ]
    }
   ],
   "source": [
    "X_g_train_preproc = FeatureExtractor().transform(X_g_train_wdw)\n",
    "y_g_train_preproc = TargetFlattener().transform(y_g_train_wdw)\n",
    "\n",
    "X_f_train_preproc = FeatureExtractor().transform(X_f_train_wdw)\n",
    "y_f_train_preproc = TargetFlattener().transform(y_f_train_wdw)\n",
    "\n",
    "print(\"Guided preprocessed:\")\n",
    "print(f\"X_g_train_preproc {X_g_train_preproc.shape}\")\n",
    "print(f\"y_g_train_preproc{y_g_train_preproc.shape}\\n\")\n",
    "\n",
    "print(\"Free move preprocessed:\")\n",
    "print(f\"X_f_train_preproc {X_f_train_preproc.shape}\")\n",
    "print(f\"y_f_train_preproc{y_f_train_preproc.shape}\")"
   ]
  },
  {
   "cell_type": "markdown",
   "id": "051f87ad",
   "metadata": {},
   "source": [
    "___\n",
    "\n",
    "## Baselines\n",
    "\n",
    "1) Baseline exploration\n",
    "\n",
    "2) analyse feature importance\n",
    "\n",
    "3) best feature selection \n",
    "\n",
    "4) final baseline selection"
   ]
  },
  {
   "cell_type": "markdown",
   "id": "35de414c",
   "metadata": {},
   "source": [
    "#### 1) Baseline 'exploration'\n",
    "\n",
    "+ try 2 baseline models from different model families (linear, tree based) to get a sense of data/model interaction, early signals of what models (assumptions) seems to work well on data. \\\n",
    "Also try a dummy mean regressor alongside to get an idea of the task complexity, seeing if simple baselines can outperfrom it and how much.\n",
    "\n",
    "+ establishes a cross validation score benchmark that more complex models should beat (to be worth the complexity).\n",
    "\n",
    "(default parametres - just get a sense of data/model interacton)\n",
    "\n",
    "__note__: for simplicity we use preprocessed data directly but there is no leakage from feature extraction being outside cross validation loop (pipeline) since feature extraction is at window level and logo folds are session based (use of window information only), so no validation set information is leaked (independant sessions)."
   ]
  },
  {
   "cell_type": "code",
   "execution_count": 40,
   "id": "564bd721",
   "metadata": {},
   "outputs": [],
   "source": [
    "cv_results_baselines_g = {}\n",
    "cv_results_baselines_f = {}\n",
    "\n",
    "baselines = {\n",
    "    \"dummy_mean\": DummyRegressor(strategy='mean'),\n",
    "    \"ols\": LinearRegression(n_jobs=-1),\n",
    "    \"random_forest\": RandomForestRegressor(random_state=0, n_jobs=-1, n_estimators=10),\n",
    "}\n",
    "\n",
    "# guided\n",
    "for name, model in baselines.items():\n",
    "    rmse_cv, nmse_cv, rmse_std, nmse_std = _logo_cv(X_g_train_preproc, y_g_train_preproc, model, groups_g)\n",
    "    cv_results_baselines_g[name] = {\"rmse\": rmse_cv, \"rmse_std\": rmse_std, \"nmse\": nmse_cv, \"nmse_std\": nmse_std}\n",
    "\n",
    "# free move\n",
    "for name, model in baselines.items():\n",
    "    rmse_cv, nmse_cv, rmse_std, nmse_std = _logo_cv(X_f_train_preproc, y_f_train_preproc, model, groups_f)\n",
    "    cv_results_baselines_f[name] = {\"rmse\": rmse_cv, \"rmse_std\": rmse_std, \"nmse\": nmse_cv, \"nmse_std\": nmse_std}\n",
    "\n",
    "baselines_cv_df_g = pd.DataFrame(cv_results_baselines_g).T\n",
    "baselines_cv_df_f = pd.DataFrame(cv_results_baselines_f).T"
   ]
  },
  {
   "cell_type": "code",
   "execution_count": 41,
   "id": "b0eaeb3a",
   "metadata": {},
   "outputs": [
    {
     "data": {
      "image/png": "[encoded data removed]",
      "text/plain": [
       "<Figure size 1000x600 with 1 Axes>"
      ]
     },
     "metadata": {},
     "output_type": "display_data"
    },
    {
     "data": {
      "image/png": "[encoded data removed]",
      "text/plain": [
       "<Figure size 1000x600 with 1 Axes>"
      ]
     },
     "metadata": {},
     "output_type": "display_data"
    }
   ],
   "source": [
    "def plot_cv_results(cv_df, metric='rmse', title='CV RMSE Scores'):\n",
    "    models = cv_df.index.tolist()\n",
    "    scores = cv_df[f\"{metric}\"].values\n",
    "    stds = cv_df[f\"{metric}_std\"].values\n",
    "\n",
    "    plt.figure(figsize=(10, 6))\n",
    "    bars = plt.bar(models, scores , yerr=stds, capsize=5)\n",
    "    plt.ylabel(metric.upper())\n",
    "    plt.title(title)\n",
    "    \n",
    "    # score labels\n",
    "    for bar, score in zip(bars, scores):\n",
    "        yval = bar.get_height()\n",
    "        plt.text(bar.get_x() + bar.get_width()/2, yval/2, f'{score:.2f}', ha='center', va='bottom')\n",
    "\n",
    "    plt.tight_layout()\n",
    "    plt.show()\n",
    "\n",
    "plot_cv_results(baselines_cv_df_g, title=\"[Guided] Baselines CV scores\")\n",
    "plot_cv_results(baselines_cv_df_f, title=\"[Free] Baselines CV scores\")\n"
   ]
  },
  {
   "cell_type": "code",
   "execution_count": 42,
   "id": "7f82ae00",
   "metadata": {},
   "outputs": [
    {
     "data": {
      "text/html": [
       "<div>\n",
       "<style scoped>\n",
       "    .dataframe tbody tr th:only-of-type {\n",
       "        vertical-align: middle;\n",
       "    }\n",
       "\n",
       "    .dataframe tbody tr th {\n",
       "        vertical-align: top;\n",
       "    }\n",
       "\n",
       "    .dataframe thead th {\n",
       "        text-align: right;\n",
       "    }\n",
       "</style>\n",
       "<table border=\"1\" class=\"dataframe\">\n",
       "  <thead>\n",
       "    <tr style=\"text-align: right;\">\n",
       "      <th></th>\n",
       "      <th>rmse</th>\n",
       "      <th>rmse_std</th>\n",
       "      <th>nmse</th>\n",
       "      <th>nmse_std</th>\n",
       "    </tr>\n",
       "  </thead>\n",
       "  <tbody>\n",
       "    <tr>\n",
       "      <th>dummy_mean</th>\n",
       "      <td>14.259043</td>\n",
       "      <td>0.260633</td>\n",
       "      <td>0.437812</td>\n",
       "      <td>0.012145</td>\n",
       "    </tr>\n",
       "    <tr>\n",
       "      <th>ols</th>\n",
       "      <td>7.248052</td>\n",
       "      <td>0.489468</td>\n",
       "      <td>0.113622</td>\n",
       "      <td>0.015742</td>\n",
       "    </tr>\n",
       "    <tr>\n",
       "      <th>random_forest</th>\n",
       "      <td>5.094033</td>\n",
       "      <td>0.706987</td>\n",
       "      <td>0.056900</td>\n",
       "      <td>0.016322</td>\n",
       "    </tr>\n",
       "  </tbody>\n",
       "</table>\n",
       "</div>"
      ],
      "text/plain": [
       "                    rmse  rmse_std      nmse  nmse_std\n",
       "dummy_mean     14.259043  0.260633  0.437812  0.012145\n",
       "ols             7.248052  0.489468  0.113622  0.015742\n",
       "random_forest   5.094033  0.706987  0.056900  0.016322"
      ]
     },
     "execution_count": 42,
     "metadata": {},
     "output_type": "execute_result"
    }
   ],
   "source": [
    "baselines_cv_df_g"
   ]
  },
  {
   "cell_type": "code",
   "execution_count": 43,
   "id": "bf17a48a",
   "metadata": {},
   "outputs": [
    {
     "data": {
      "text/html": [
       "<div>\n",
       "<style scoped>\n",
       "    .dataframe tbody tr th:only-of-type {\n",
       "        vertical-align: middle;\n",
       "    }\n",
       "\n",
       "    .dataframe tbody tr th {\n",
       "        vertical-align: top;\n",
       "    }\n",
       "\n",
       "    .dataframe thead th {\n",
       "        text-align: right;\n",
       "    }\n",
       "</style>\n",
       "<table border=\"1\" class=\"dataframe\">\n",
       "  <thead>\n",
       "    <tr style=\"text-align: right;\">\n",
       "      <th></th>\n",
       "      <th>rmse</th>\n",
       "      <th>rmse_std</th>\n",
       "      <th>nmse</th>\n",
       "      <th>nmse_std</th>\n",
       "    </tr>\n",
       "  </thead>\n",
       "  <tbody>\n",
       "    <tr>\n",
       "      <th>dummy_mean</th>\n",
       "      <td>12.892779</td>\n",
       "      <td>1.769289</td>\n",
       "      <td>0.292550</td>\n",
       "      <td>0.024441</td>\n",
       "    </tr>\n",
       "    <tr>\n",
       "      <th>ols</th>\n",
       "      <td>11.372697</td>\n",
       "      <td>1.915888</td>\n",
       "      <td>0.226709</td>\n",
       "      <td>0.028622</td>\n",
       "    </tr>\n",
       "    <tr>\n",
       "      <th>random_forest</th>\n",
       "      <td>11.144964</td>\n",
       "      <td>1.921988</td>\n",
       "      <td>0.217799</td>\n",
       "      <td>0.029928</td>\n",
       "    </tr>\n",
       "  </tbody>\n",
       "</table>\n",
       "</div>"
      ],
      "text/plain": [
       "                    rmse  rmse_std      nmse  nmse_std\n",
       "dummy_mean     12.892779  1.769289  0.292550  0.024441\n",
       "ols            11.372697  1.915888  0.226709  0.028622\n",
       "random_forest  11.144964  1.921988  0.217799  0.029928"
      ]
     },
     "execution_count": 43,
     "metadata": {},
     "output_type": "execute_result"
    }
   ],
   "source": [
    "baselines_cv_df_f"
   ]
  },
  {
   "cell_type": "markdown",
   "id": "ce6fb652",
   "metadata": {},
   "source": [
    "TODO: free move observations - guided random forest 0.05 nmse !! 95% of variance explained - task near optimal (noise left un explained)\n",
    "\n",
    "__Observations__:\n",
    "\n",
    "+ Interesting results as we see how the dummy mean regressor confirms that the Guided gesture task is less complex than the Free gesture one, as the 2 simple baselines cut guided prediction error in half (compared to dummy mean), also indicating knowledge can be extracted from features. And for Free gesture task, models slightly outperform dummy mean regressor indicating more complex task and less informtive features (or not sufficient).\n",
    "\n",
    "+ evidence of linear structure and non linear structure in Guided task, linear regression explains ~75% of the dummy mean variance (NMSE reduced by ~75%) and random forest further reduce prediction error.\n",
    "\n",
    "(interesting to see jumps from dummy mean to linear to non linear, can help visualize/sense complexity/assumptions impact gradually)"
   ]
  },
  {
   "cell_type": "code",
   "execution_count": 44,
   "id": "c9736ef6",
   "metadata": {},
   "outputs": [],
   "source": [
    "# wont work with dummy mean no more\n",
    "del baselines['dummy_mean']"
   ]
  },
  {
   "cell_type": "markdown",
   "id": "69aedeb0",
   "metadata": {},
   "source": [
    "#### 2) Feature importance\n",
    "\n",
    "informative (to be used in feature selection, it must be done correctly avoiding leakage (see step 3 below))"
   ]
  },
  {
   "cell_type": "markdown",
   "id": "ce988402",
   "metadata": {},
   "source": [
    "__OLS__\n",
    "\n",
    "```python\n",
    "coef_ = [w_1_1, w_1_2, ..., w_1_48],  # weights of model 1\n",
    "        ...\n",
    "        [w_51_1, ..., w_51_48]        # weights of model 51\n",
    "```\n",
    "For interpretability and to get a general insight we aggregate the feature importances across all outputs by taking the mean (abs to avoid negative weights to cancel out).\n",
    "\n",
    "(inspired by [external src](https://sourcebae.com/blog/how-to-get-coefficients-and-feature-importances-from-multioutputregressor/) and Tp5)"
   ]
  },
  {
   "cell_type": "code",
   "execution_count": 45,
   "id": "a23f583d",
   "metadata": {},
   "outputs": [
    {
     "data": {
      "image/png": "[encoded data removed]",
      "text/plain": [
       "<Figure size 1000x500 with 1 Axes>"
      ]
     },
     "metadata": {},
     "output_type": "display_data"
    },
    {
     "data": {
      "image/png": "[encoded data removed]",
      "text/plain": [
       "<Figure size 1000x500 with 1 Axes>"
      ]
     },
     "metadata": {},
     "output_type": "display_data"
    }
   ],
   "source": [
    "baseline_ols = make_pipeline(StandardScaler(), baselines['ols']) # add standardization for coefs interpretability\n",
    "column_names = X_g_train_preproc.columns\n",
    "\n",
    "def plot_ols_coefs(ols_reg, title:str):\n",
    "    aggr_coef = np.mean(np.abs(ols_reg.coef_), axis=0) # average on columns\n",
    "    ols_sorted_idx = np.argsort(aggr_coef)[::-1] # descending order\n",
    "\n",
    "    plt.figure(figsize=(10, 5))\n",
    "    plt.bar(range(len(aggr_coef)), aggr_coef[ols_sorted_idx], align='center')\n",
    "    plt.xticks(range(len(aggr_coef)), column_names[ols_sorted_idx], rotation=45)\n",
    "    plt.xlabel(\"weights associated features \")\n",
    "    plt.ylabel(\"aggregated |coef|\")\n",
    "    plt.title(f\"[{title}] OLS aggregated feature weights\")\n",
    "    plt.tight_layout()\n",
    "    plt.show()\n",
    "\n",
    "baseline_ols.fit(X_g_train_preproc, y_g_train_preproc)\n",
    "plot_ols_coefs(baseline_ols[-1], \"Guided\")\n",
    "\n",
    "baseline_ols.fit(X_f_train_preproc, y_f_train_preproc)\n",
    "plot_ols_coefs(baseline_ols[-1], \"Free move\")\n"
   ]
  },
  {
   "cell_type": "markdown",
   "id": "efdf551e",
   "metadata": {},
   "source": [
    "Observations: \n",
    "\n",
    "+ STD and RMS leading weights, other features nearly dropped, not considered. Coherence between guided and free moves\n",
    "+ electrodes 2 and 3 dominant\n",
    "+ half the features are not considered/impactful, feature selection might be relevant"
   ]
  },
  {
   "cell_type": "markdown",
   "id": "169b92c2",
   "metadata": {},
   "source": [
    "__Random forest__\n",
    "\n",
    "We use the built in fitted 'features_importances_' attribute, but lets explain what exactly it represents, how is it calculated to interpret these scores at a deeper level than a simple ranking (might give deeper insights for next steps searhc direction).\n",
    "\n",
    "For a feature j, each tree measures the total (sum) variance reduction (impurity) across all 51 outputs of every node splitting on j, summing the score for every such node in the tree, then, at forest level, this score is averaged over all tress to get the final importance score (then normalized)\n",
    "\n",
    "Interpretation: how much on average splitting on that feature reduced impurity in the whole forest across all targets"
   ]
  },
  {
   "cell_type": "code",
   "execution_count": 46,
   "id": "cd3f2029",
   "metadata": {},
   "outputs": [
    {
     "data": {
      "image/png": "[encoded data removed]",
      "text/plain": [
       "<Figure size 1000x500 with 1 Axes>"
      ]
     },
     "metadata": {},
     "output_type": "display_data"
    },
    {
     "data": {
      "image/png": "[encoded data removed]",
      "text/plain": [
       "<Figure size 1000x500 with 1 Axes>"
      ]
     },
     "metadata": {},
     "output_type": "display_data"
    }
   ],
   "source": [
    "column_names = X_g_train_preproc.columns\n",
    "baseline_rf = baselines['random_forest']\n",
    "\n",
    "def plot_rf_feat_imp(rf_reg, title:str):\n",
    "    feat_imp = rf_reg.feature_importances_\n",
    "    sorted_idx = np.argsort(feat_imp)[::-1] # descending order\n",
    "\n",
    "    plt.figure(figsize=(10, 5))\n",
    "    plt.bar(range(len(feat_imp)), feat_imp[sorted_idx], align='center')\n",
    "    plt.xticks(range(len(feat_imp)), column_names[sorted_idx], rotation=45)\n",
    "    plt.xlabel(\"features\")\n",
    "    plt.ylabel(\"importance\")\n",
    "    plt.title(\"Random Forest feature importances\")\n",
    "    plt.tight_layout()\n",
    "    plt.show()\n",
    "\n",
    "baseline_rf.fit(X_g_train_preproc, y_g_train_preproc)\n",
    "plot_rf_feat_imp(baseline_rf, \"Guided\")\n",
    "\n",
    "baseline_rf.fit(X_f_train_preproc, y_f_train_preproc)\n",
    "plot_rf_feat_imp(baseline_rf, \"Guided\")"
   ]
  },
  {
   "cell_type": "markdown",
   "id": "3cb463cf",
   "metadata": {},
   "source": [
    "Observations:\n",
    "+  Guided and free move not overall coherant, but share elec3 mav high dependance and more severe importance imbalance (rely on fewer feautres than OLS)"
   ]
  },
  {
   "cell_type": "markdown",
   "id": "1d4d7a27",
   "metadata": {},
   "source": [
    "#### 3) Feature selection\n",
    "\n",
    "We experiment feature selection on baseline models with 2 different feature selection strategies (filter and embedded) through a cross validated pipeline to avoid **data leakage**.\n",
    "\n",
    "- If done separately (rank features before), features scores are computed using validation set information, so selection is done with data leakage.\n",
    "\n",
    "**note**: We dont do hyper parametre tuning, the goal is to find the best (model + feature selection strategy) combination with default models. \\ \n",
    "Even if hyperparametres can interact with feature selection, it is a trade off we accept (for the reasons explained above), if we had to handle it, it would be done with [nested cv](https://scikit-learn.org/stable/auto_examples/model_selection/plot_nested_cross_validation_iris.html) to avoid leakage (tune and eval on same data).\n",
    "\n",
    "(inspired from Tp5 and Tp3)"
   ]
  },
  {
   "cell_type": "markdown",
   "id": "1683c5e5",
   "metadata": {},
   "source": [
    "__PCA__\n",
    "\n",
    "Select k-best components.\n",
    "\n",
    "note: pipeline + grid search and \"by hand\" methods were implemented, both generate same results, second method less prone to error, more explicit and faster (on my computer, maybe gridsearch api optimized), so first one is here for documentation and also to ensure results coherance (both ways).\n",
    "\n",
    "(We add a standardization step to every pipeline using PCA as it is scale sensitive, to avoid biased components)"
   ]
  },
  {
   "cell_type": "code",
   "execution_count": 47,
   "id": "fa1e04d8",
   "metadata": {},
   "outputs": [],
   "source": [
    "\"\"\"\n",
    "(do np.mean 5 times != 48)\n",
    "cv_results = \n",
    "    [\n",
    "        [fold1_1c, fold2_1c, ... fold5_1c],\n",
    "        [fold1_2c, fold2_2c, ... fold5_2c],\n",
    "        ...\n",
    "        [fold1_48c, fold2_48c, ... fold5_48c],\n",
    "    ]\n",
    "\"\"\"\n",
    "\n",
    "def pca_loop_feat_selec(model, X, y, groups):\n",
    "    n_windows, n_features = X.shape\n",
    "    CV_err = np.zeros((n_features, 5)) # (48, 5) TODO: avoid mgic number 5\n",
    "    for fold, (train_index, test_index) in enumerate(logo.split(X, y, groups=groups)):\n",
    "        X_tr, X_ts = X.iloc[train_index], X.iloc[test_index]\n",
    "        y_tr, y_ts = y[train_index], y[test_index]\n",
    "        \n",
    "        # fold independant PCA - no leaking\n",
    "        pca = PCA(random_state=0)\n",
    "        scaler = StandardScaler()\n",
    "        X_tr_scaled = scaler.fit_transform(X_tr)\n",
    "        X_tr_pca = pca.fit_transform(X_tr_scaled)\n",
    "        X_ts_scaled = scaler.transform(X_ts) # transform with fitted params on X_tr !\n",
    "        X_ts_pca = pca.transform(X_ts_scaled) # transform with fitted params on X_tr !\n",
    "        for k in range(n_features):\n",
    "            model.fit(X_tr_pca[:, :k+1], y_tr) # train on k-best components\n",
    "            y_hat = model.predict(X_ts_pca[:, :k+1])\n",
    "            CV_err[k, fold] = rmse(y_hat, y_ts)\n",
    "\n",
    "    best_n_components = 1\n",
    "    best_cv_rmse = float('inf')\n",
    "    for k in range(n_features):\n",
    "        cv_rmse = np.mean(CV_err[k])\n",
    "        if cv_rmse < best_cv_rmse:\n",
    "            best_n_components = k+1 # (we worked with index nto with n_components)\n",
    "            best_cv_rmse = cv_rmse\n",
    "    \n",
    "    return best_n_components, best_cv_rmse\n",
    "\n",
    "def pca_grid_feat_selec(model, X, y, groups, scorer=rmse_scorer):\n",
    "    pipe = make_pipeline(\n",
    "        StandardScaler(),\n",
    "        PCA(),\n",
    "        model\n",
    "    )\n",
    "\n",
    "    n_windows, n_features = X.shape\n",
    "    param_grid = {'pca__n_components': [i for i in range(1, n_features+1)]}\n",
    "\n",
    "    grid = GridSearchCV(pipe, param_grid, cv=logo, scoring=scorer, n_jobs=-1)\n",
    "    grid.fit(X, y, groups=groups)\n",
    "\n",
    "    best_n_components = grid.best_params_['pca__n_components']\n",
    "    best_cv_rmse = -grid.best_score_\n",
    "    \n",
    "    return best_n_components, best_cv_rmse"
   ]
  },
  {
   "cell_type": "code",
   "execution_count": 48,
   "id": "ffefb94e",
   "metadata": {},
   "outputs": [
    {
     "name": "stdout",
     "output_type": "stream",
     "text": [
      "Guided\n",
      "[ols] Optimal #components = 44 with cv rmse = 7.246982456844559\n",
      "[random_forest] Optimal #components = 29 with cv rmse = 5.932865285720984\n"
     ]
    }
   ],
   "source": [
    "# Guided\n",
    "print(\"Guided\")\n",
    "for name, model in baselines.items():\n",
    "    best_n_components, best_cv_rmse = pca_grid_feat_selec(model, X_g_train_preproc, y_g_train_preproc, groups_g)\n",
    "    # best_n_components, best_cv_rmse = pca_loop_feat_selec(model, X_g_train_preproc, y_g_train_preproc, groups_g)\n",
    "    print(f\"[{name}] Optimal #components = {best_n_components} with cv rmse = {best_cv_rmse}\")"
   ]
  },
  {
   "cell_type": "code",
   "execution_count": 49,
   "id": "0e6d2d75",
   "metadata": {},
   "outputs": [
    {
     "name": "stdout",
     "output_type": "stream",
     "text": [
      "Free\n",
      "[ols] Optimal #components = 32 with cv rmse = 11.077628289992537\n",
      "[random_forest] Optimal #components = 38 with cv rmse = 10.989552927940295\n"
     ]
    }
   ],
   "source": [
    "# Free\n",
    "print(\"Free\")\n",
    "for name, model in baselines.items():\n",
    "    best_n_components, best_cv_rmse = pca_grid_feat_selec(model, X_f_train_preproc, y_f_train_preproc, groups_f)\n",
    "    # best_n_components, best_cv_rmse = pca_loop_feat_selec(model, X_g_train_preproc, y_g_train_preproc, groups_g)\n",
    "    print(f\"[{name}] Optimal #components = {best_n_components} with cv rmse = {best_cv_rmse}\")"
   ]
  },
  {
   "cell_type": "markdown",
   "id": "dae1db2d",
   "metadata": {},
   "source": [
    "Observations: \n",
    "\n",
    "+ For random forest, PCA feature selection doesnt outperform raw model (randon forest), as the scaling step might weaken previously clear / obvious splits \n",
    "\n",
    "note: We get improvements without the scalign step but still less then next method and not 'guideline' (PCA requires scaling so if it underperforms then PCA shoudlnt be used with tree based models)"
   ]
  },
  {
   "cell_type": "markdown",
   "id": "071ecf94",
   "metadata": {},
   "source": [
    "__Embedded__\n",
    "\n",
    "We set threshold=0 to have 'pure' feature selection, otherwise some features get discarded as the default threshold uses a mean strategy.\n",
    "\n",
    "We use same model for pipeline final estimator and embedded feature importances estimator by convention (could try all 4 combinations) as both models have native feature importances (coefs_, feature_importances_) and thus are supported by SelectFromModel."
   ]
  },
  {
   "cell_type": "code",
   "execution_count": 54,
   "id": "9b825f4d",
   "metadata": {},
   "outputs": [],
   "source": [
    "def embeded_grid_feat_selec(model, X, y, groups, scorer=rmse_scorer):\n",
    "    pipe = Pipeline([\n",
    "        ('select', SelectFromModel(model, threshold=0)),\n",
    "        ('model', model)\n",
    "    ])\n",
    "    \n",
    "    n_windows, n_features = X.shape\n",
    "    # param_grid = {'selectfrommodel__max_features': [i for i in range(1, n_features+1)]}\n",
    "    param_grid = {'select__max_features': [i for i in range(1, n_features+1)]}\n",
    "\n",
    "    grid = GridSearchCV(pipe, param_grid, cv=logo, scoring=scorer, n_jobs=-1)\n",
    "    grid.fit(X, y, groups=groups)\n",
    "\n",
    "    best_n_features = grid.best_params_['select__max_features']\n",
    "    best_cv_rmse = -grid.best_score_\n",
    "    \n",
    "    return best_n_features, best_cv_rmse"
   ]
  },
  {
   "cell_type": "code",
   "execution_count": 55,
   "id": "413ffcd5",
   "metadata": {},
   "outputs": [
    {
     "name": "stdout",
     "output_type": "stream",
     "text": [
      "Guided\n",
      "[ols] Optimal #features = 48 with cv rmse = 7.248052301286036\n",
      "[random_forest] Optimal #features = 34 with cv rmse = 4.960515907891919\n"
     ]
    }
   ],
   "source": [
    "print(\"Guided\")\n",
    "for name, model in baselines.items():\n",
    "    best_n_features, best_cv_rmse = embeded_grid_feat_selec(model, X_g_train_preproc, y_g_train_preproc, groups_g)\n",
    "    \n",
    "    print(f\"[{name}] Optimal #features = {best_n_features} with cv rmse = {best_cv_rmse}\")"
   ]
  },
  {
   "cell_type": "code",
   "execution_count": 56,
   "id": "0d8ac2da",
   "metadata": {},
   "outputs": [
    {
     "name": "stdout",
     "output_type": "stream",
     "text": [
      "Free\n",
      "[ols] Optimal #features = 45 with cv rmse = 11.264842863405722\n",
      "[random_forest] Optimal #features = 27 with cv rmse = 10.999034037754729\n"
     ]
    }
   ],
   "source": [
    "print(\"Free\")\n",
    "for name, model in baselines.items():\n",
    "    best_n_features, best_cv_rmse = embeded_grid_feat_selec(model, X_f_train_preproc, y_f_train_preproc, groups_f)\n",
    "    \n",
    "    print(f\"[{name}] Optimal #features = {best_n_features} with cv rmse = {best_cv_rmse}\")"
   ]
  },
  {
   "cell_type": "markdown",
   "id": "61ae5bcb",
   "metadata": {},
   "source": [
    "#### 4) Final baseline\n",
    "\n",
    "Select as final baseline, the best performing (rmse) [feature selection + baseline model] combination explored (infinite possibilities)."
   ]
  },
  {
   "cell_type": "code",
   "execution_count": null,
   "id": "2e58bea3",
   "metadata": {},
   "outputs": [],
   "source": [
    "# add Feature extractor step to be directly trained on raw X_g_train_wdw and tested on X_g_test, also help synchronise input shape along the project\n",
    "\n",
    "final_baseline_pipe_g = make_pipeline(\n",
    "    FeatureExtractor(),\n",
    "    SelectFromModel(baselines['random_forest'], threshold=0, max_features=34),\n",
    "    baselines['random_forest']\n",
    ")\n",
    "\n",
    "final_baseline_pipe_f = make_pipeline(\n",
    "    FeatureExtractor(),\n",
    "    StandardScaler(),\n",
    "    PCA(n_components=38),\n",
    "    baselines['random_forest']\n",
    ")"
   ]
  },
  {
   "cell_type": "markdown",
   "id": "6f6482a6",
   "metadata": {},
   "source": [
    "___\n",
    "\n",
    "## More complex approaches"
   ]
  },
  {
   "cell_type": "markdown",
   "id": "9ebbdc89",
   "metadata": {},
   "source": [
    "### Covariance matrix\n",
    "\n",
    "+ Covariance estimation: covariance matrices can be robustly estimated from multichannel EMG signals using PyRiemann’s Covariances class with the Oracle Approximating Shrinkage (OAS) method.\n",
    "+ Tangent Space Projection: maps SPD matrices onto their tangent space, transforming them into Euclidean vectors of dimension m(m + 1)/2 (where m is the matrix dimension). This operation locally\n",
    "approximates the SPD manifold, preserving its inner geometry, while enabling standard vector-based\n",
    "machine learning methods. The projection requires a reference matrix, typically the geometric (Riemannian) mean of the covariance matrices from the training set. More detailed information can be\n",
    "found here\n",
    "+ Regression Algorithm: After tangent space projection, traditional regression algorithms (e.g., Ridge\n",
    "regression, Support Vector Regression) can be used as the final step of the machine learning pipelines. \n",
    "\n",
    "(source: project paper)\n",
    "\n",
    "__Intuition/Motivation__: this method is a good fit/idea for this task and might have been proposed with domain knowledge (from project 'creator') since we know that forearm electrodes picking up muscle activity can and should be correlated (their signals) since the hand movement (pose) is a complex mechanism relying on multiple muscle (electrodes), so we know they interact and are correlated. This method tries to capture such \"spatial\" correlation between the electrodes through a (per windw) covariance matrix. \n"
   ]
  },
  {
   "cell_type": "code",
   "execution_count": 60,
   "id": "8162a1e9",
   "metadata": {},
   "outputs": [],
   "source": [
    "class XWindowSampleReshaper(BaseEstimator, TransformerMixin):\n",
    "    \"\"\"\n",
    "    Reshape each window as a sample\n",
    "\n",
    "    (sessions, windows, ...) --> (sessions*windows, ...)\n",
    "    \"\"\"\n",
    "\n",
    "    def fit(self, X, y=None):\n",
    "        return self\n",
    "\n",
    "    def transform(self, X, y=None):\n",
    "        n_sessions, n_windows, n_electrodes, n_times = X.shape\n",
    "        X_sample = X.reshape(n_sessions*n_windows, n_electrodes, n_times)\n",
    "        return X_sample"
   ]
  },
  {
   "cell_type": "markdown",
   "id": "cae4602d",
   "metadata": {},
   "source": [
    "Expected __input shape__ (as described in pyRiemann github): \n",
    "\n",
    "+ X (n_epochs x n_channels x n_times)\n",
    "+ y (n_epochs x n_output)\n",
    "\n",
    "Since it needs the raw signals associated to each window to compute (estimate) the covariance matrix. \\\n",
    "So X should be reshaped accordingly and preprocessed y already in correct shape (only need labels associated to each of these windows)"
   ]
  },
  {
   "cell_type": "code",
   "execution_count": 61,
   "id": "fe53ed5c",
   "metadata": {},
   "outputs": [
    {
     "name": "stdout",
     "output_type": "stream",
     "text": [
      "X_g_train_sample(4595, 8, 500)\n",
      "X_f_train_sample(5395, 8, 500)\n"
     ]
    }
   ],
   "source": [
    "# Guided\n",
    "X_g_train_sample = XWindowSampleReshaper().transform(X_g_train_wdw)\n",
    "print(f\"X_g_train_sample{X_g_train_sample.shape}\")\n",
    "# Free\n",
    "X_f_train_sample = XWindowSampleReshaper().transform(X_f_train_wdw)\n",
    "print(f\"X_f_train_sample{X_f_train_sample.shape}\")"
   ]
  },
  {
   "cell_type": "code",
   "execution_count": 62,
   "id": "116209c4",
   "metadata": {},
   "outputs": [
    {
     "name": "stderr",
     "output_type": "stream",
     "text": [
      "/home/khalil/ls/envs/sfml/lib/python3.12/site-packages/sklearn/linear_model/_coordinate_descent.py:695: ConvergenceWarning: Objective did not converge. You might want to increase the number of iterations, check the scale of the features or consider increasing regularisation. Duality gap: 0.000e+00, tolerance: 0.000e+00\n",
      "  model = cd_fast.enet_coordinate_descent(\n"
     ]
    },
    {
     "name": "stdout",
     "output_type": "stream",
     "text": [
      "[Guided] rmse = 7.7165923062517425 / nmse = 0.12857383071665943\n",
      "[Free] rmse = 10.723607441098014 / nmse = 0.2034010844756935\n"
     ]
    }
   ],
   "source": [
    "cov_mat_pipe = make_pipeline(\n",
    "    Covariances(estimator='oas'),\n",
    "    TangentSpace(), # defult metric = riemann\n",
    "    StandardScaler(),\n",
    "    Lasso() # default support multioutput\n",
    ")\n",
    "\n",
    "# Guided\n",
    "cov_mat_g_cv_res = _logo_cv(X_g_train_sample, y_g_train_preproc, cov_mat_pipe, groups_g)\n",
    "print(f\"[Guided] rmse = {cov_mat_g_cv_res[0]} / nmse = {cov_mat_g_cv_res[1]}\")\n",
    "\n",
    "# Free\n",
    "cov_mat_f_cv_res = _logo_cv(X_f_train_sample, y_f_train_preproc, cov_mat_pipe, groups_f)\n",
    "print(f\"[Free] rmse = {cov_mat_f_cv_res[0]} / nmse = {cov_mat_f_cv_res[1]}\")\n",
    "\n"
   ]
  },
  {
   "cell_type": "markdown",
   "id": "de96f9cb",
   "metadata": {},
   "source": [
    "Observations:\n",
    "\n",
    "+ For Guided dataset, not outperforming ~4.96 rmse from best baseline (random forest with embedded feature selection)\n",
    "\n",
    "This can be explained by the fact that the guided dataset is a simpler task (simpler one finger guided gestures), so the baseline random forest with common time domain features is able to capture most of the predictable variance, so the covariances matrices may not add much more \"prediction power\" than the simpler statistics (common time domain features) used in the baseline.\\\n",
    "We also remember that the baseline random forest was at 5% nmse which meant the task was nearly fully explained (if we assume only noise left), now nmse scores are 2x higher.\n",
    "\n",
    "+ For Free dataset, outperforming ~10.989 rmse from best baseline (random forest with pca feature selection)\n",
    "\n",
    "In contrast, the free move dataset is much more complex with simultaneous muscle/sensors interactions that the simpler statistics used in baseline may not fully capture, and a covariance matrix is a way better \"tool\" to express such complex interactions. \\\n",
    "Another interesting point is that we know that this task is more prone to noise, and the covariance pipeline uses regularization through OAS estimation, making it more robust to noise.\n"
   ]
  },
  {
   "cell_type": "markdown",
   "id": "ffe7568a-1744-4f75-8e65-f7c835eaec49",
   "metadata": {},
   "source": [
    "### Neural Network"
   ]
  },
  {
   "cell_type": "markdown",
   "id": "296d6bd1",
   "metadata": {},
   "source": [
    "For the neural network approch, we have done:\n",
    "\n",
    "##### Simple model\n",
    "We started by a simple model composed of 3 linear layers.\n",
    "\n",
    "At first, for training our model we were going to use the exact same training loop as in Lab 4, but after some research, we discovered that wrapping our PyTorch module with [Skorch](https://skorch.readthedocs.io/en/stable/) offered more advantages : compatibility with sklearn, reuse our existing cv_logo() function, concise maintainable code.\n",
    "\n",
    "\n",
    "The rmse mean was 17.03, which beat the vanilla lasso model but not the covriance matrices lasso. We analyzed the value of the training loss and validation loss for each epoch and we saw that the model is underfitting.\n",
    "So we decide to complexify it.\n",
    "\n",
    "##### Model complexity\n",
    "\n",
    "We upgraded to a small CNN with three 1D convolutional layers because the dataset has to much datas for an nn classique and to automatically learn local temporal patterns in the EMG signal. \n",
    "\n",
    "After each convolutional layer:\n",
    "\n",
    "We normalize our data to stabilize and speed up training.\n",
    "\n",
    "We introduce a simple Relu activation so the network can learn more complex features.\n",
    "\n",
    "We “cut” the time dimension in half, keeping only the strongest responses and reducing data size.\n",
    "\n",
    "Once the three convolutional blocks are done, we flatten the output tensor and pass it into a two layer head, to convert these extracted features into the 51 joint-angle predictions\n",
    "\n",
    "##### Early stopping and LR scheduling\n",
    "\n",
    "We added two Skorch callbacks:\n",
    "\n",
    "-EarlyStopping to stop the training when no improvement is seen for 10 epochs.\n",
    "\n",
    "-LRScheduler to cut the learning rate by half when the validation loss stalls 3 epochs consecutives.\n",
    "\n",
    "This combination prevents wasted epochs once the model converges and refines the learning rate to squeeze out extra gains.\n",
    "\n",
    "##### Batch size reduction\n",
    "\n",
    "We lowered the batch size from 128 to 64. Using smaller batches adds a bit of randomness to each weight update, which helps the model generalize better without altering its structure.\n",
    "\n",
    "With these three changes, the nn average RMSE dropped to ~4,70, a dramatic improvement over the initial ~17."
   ]
  },
  {
   "cell_type": "markdown",
   "id": "d9f794f8-2241-4598-a764-f9d46cc9ad10",
   "metadata": {},
   "source": [
    "| Simple Model | Complex Model | Complex Model + Early Stopping & LR Scheduler | Same as #3 but Batch Size = 64 |\n",
    "|:------------:|:-------------:|:---------------------------------------------:|:-----------------------------:|\n",
    "| ![](./images/1.png) | ![](./images/2.png) | ![](./images/3.png) | ![](./images/4.png) |\n",
    "| **RMSE mean:** 17.03 | **RMSE mean:** 6.06 | **RMSE mean:** 5.89 | **RMSE mean:** 4.70 |\n"
   ]
  },
  {
   "cell_type": "markdown",
   "id": "1cbf5ad5-7a75-4a4b-aec5-2c3b6cbf184b",
   "metadata": {},
   "source": [
    "Data Preparation\n",
    "\n"
   ]
  },
  {
   "cell_type": "code",
   "execution_count": 63,
   "id": "871c4b55-2fc0-4b9d-ba4a-022f50c29849",
   "metadata": {},
   "outputs": [
    {
     "name": "stdout",
     "output_type": "stream",
     "text": [
      "float64\n",
      "float64\n"
     ]
    }
   ],
   "source": [
    "x_shape_f = X_f_train_wdw.shape\n",
    "\n",
    "X_g_train_wdw_cnn = X_g_train_wdw.reshape(x_shape[0]* x_shape[1], x_shape[2] * x_shape[3])\n",
    "X_f_train_wdw_cnn = X_f_train_wdw.reshape(x_shape_f[0]* x_shape_f[1], x_shape_f[2] * x_shape_f[3])\n",
    "\n",
    "# Convert dataset from float64 to float32 because PyTorch layers expect float32\n",
    "# 32-bit precision is sufficient for our signals and speeds up training\n",
    "print(X_g_train_wdw_flat.dtype)   \n",
    "print(y_g_train_preproc.dtype)   \n",
    "\n",
    "x_g_cnn = X_g_train_wdw_cnn.astype('float32')\n",
    "y_g_torch = y_g_train_preproc.astype('float32')\n",
    "\n",
    "x_f_cnn = X_f_train_wdw_cnn.astype('float32')\n",
    "y_f_torch = y_f_train_preproc.astype('float32')"
   ]
  },
  {
   "cell_type": "code",
   "execution_count": null,
   "id": "1196c442-008a-4aeb-8dd8-fd3e407e4c4c",
   "metadata": {},
   "outputs": [],
   "source": [
    "## NN method\n",
    "\n",
    "class NeuralNetwork(nn.Module):\n",
    "    def __init__(self):\n",
    "        super().__init__()\n",
    "        self.f = nn.Sequential(\n",
    "            nn.Unflatten(1, (8,500)), #unflatten data for  convolution (64 (batch_size), 8,500)\n",
    "\n",
    "            nn.Conv1d(8, 32, kernel_size=11, padding=5), # 8 input channels (electrodes) and 32 is the output, the number of feature he learn.\n",
    "            # Thanks to padding, the output length remains 500 (64,32,500) \n",
    "            nn.BatchNorm1d(32),\n",
    "            nn.ReLU(),\n",
    "            nn.MaxPool1d(2),  # Halve the temporal dimension  (64,32,250)          \n",
    "            \n",
    "            nn.Conv1d(32, 64, kernel_size=9, padding=4), #(64,64,250)\n",
    "            nn.BatchNorm1d(64),\n",
    "            nn.ReLU(),\n",
    "            nn.MaxPool1d(2),  #(64,64,125)      \n",
    "\n",
    "            nn.Conv1d(64, 128, kernel_size=7, padding=3), # (64,128,125)\n",
    "            nn.BatchNorm1d(128),\n",
    "            nn.ReLU(),\n",
    "            nn.MaxPool1d(2),  # (64,128,62)    \n",
    "            \n",
    "            nn.Flatten(), # Reflatten our data for the next part (64,128*62)\n",
    "        )\n",
    "        self.r = nn.Sequential(\n",
    "            nn.Linear(7936, 512),\n",
    "            nn.ReLU(),\n",
    "            nn.Linear(512, 256),\n",
    "            nn.ReLU(),\n",
    "            nn.Linear(256, 51),\n",
    "        )\n",
    "\n",
    "    def forward(self, x):\n",
    "        x = self.f(x)\n",
    "        return self.r(x)\n",
    "\n",
    "      \n",
    "\n",
    "net = NeuralNetRegressor(\n",
    "    module=NeuralNetwork,                 # PyTorch model \n",
    "    max_epochs=100,                 \n",
    "    lr=1e-3,                       \n",
    "    batch_size=64,\n",
    "    optimizer=torch.optim.Adam,\n",
    "    callbacks=[('earlystop', EarlyStopping('valid_loss', patience=10)), # Stop if validation loss doesnt improve for 10 epochs (patience)\n",
    "                    ('lr_sched', LRScheduler(\n",
    "           policy=torch.optim.lr_scheduler.ReduceLROnPlateau, # scale down (factor, here halves) learning rate if validation loss stalls for 3 (patience) epochs\n",
    "           monitor='valid_loss',\n",
    "           patience=3, factor=0.5))], \n",
    "    verbose = 0 # !!! verbose=1 to see the training loss and validation loss at each epoch.\n",
    ")\n",
    "\n",
    "\n",
    "pipe_cnn = Pipeline([\n",
    "    ('scale', StandardScaler()),  # Standardize inputs for a quick start, cnn will normalize after its data at each step\n",
    "    ('net',   net)                \n",
    "])"
   ]
  },
  {
   "cell_type": "code",
   "execution_count": 65,
   "id": "b94fa717-1f3a-4e85-8cc1-963c48787d5a",
   "metadata": {
    "scrolled": true
   },
   "outputs": [
    {
     "name": "stderr",
     "output_type": "stream",
     "text": [
      "/home/khalil/ls/envs/sfml/lib/python3.12/site-packages/skorch/net.py:2261: FutureWarning: You are using `torch.load` with `weights_only=False` (the current default value), which uses the default pickle module implicitly. It is possible to construct malicious pickle data which will execute arbitrary code during unpickling (See https://github.com/pytorch/pytorch/blob/main/SECURITY.md#untrusted-models for more details). In a future release, the default value for `weights_only` will be flipped to `True`. This limits the functions that could be executed during unpickling. Arbitrary objects will no longer be allowed to be loaded via this mode unless they are explicitly allowlisted by the user via `torch.serialization.add_safe_globals`. We recommend you start setting `weights_only=True` for any use case where you don't have full control of the loaded file. Please open an issue on GitHub for any issues related to this experimental feature.\n",
      "  cuda_attrs = torch.load(f, **load_kwargs)\n",
      "/home/khalil/ls/envs/sfml/lib/python3.12/site-packages/skorch/net.py:2261: FutureWarning: You are using `torch.load` with `weights_only=False` (the current default value), which uses the default pickle module implicitly. It is possible to construct malicious pickle data which will execute arbitrary code during unpickling (See https://github.com/pytorch/pytorch/blob/main/SECURITY.md#untrusted-models for more details). In a future release, the default value for `weights_only` will be flipped to `True`. This limits the functions that could be executed during unpickling. Arbitrary objects will no longer be allowed to be loaded via this mode unless they are explicitly allowlisted by the user via `torch.serialization.add_safe_globals`. We recommend you start setting `weights_only=True` for any use case where you don't have full control of the loaded file. Please open an issue on GitHub for any issues related to this experimental feature.\n",
      "  cuda_attrs = torch.load(f, **load_kwargs)\n",
      "/home/khalil/ls/envs/sfml/lib/python3.12/site-packages/skorch/net.py:2261: FutureWarning: You are using `torch.load` with `weights_only=False` (the current default value), which uses the default pickle module implicitly. It is possible to construct malicious pickle data which will execute arbitrary code during unpickling (See https://github.com/pytorch/pytorch/blob/main/SECURITY.md#untrusted-models for more details). In a future release, the default value for `weights_only` will be flipped to `True`. This limits the functions that could be executed during unpickling. Arbitrary objects will no longer be allowed to be loaded via this mode unless they are explicitly allowlisted by the user via `torch.serialization.add_safe_globals`. We recommend you start setting `weights_only=True` for any use case where you don't have full control of the loaded file. Please open an issue on GitHub for any issues related to this experimental feature.\n",
      "  cuda_attrs = torch.load(f, **load_kwargs)\n",
      "/home/khalil/ls/envs/sfml/lib/python3.12/site-packages/skorch/net.py:2261: FutureWarning: You are using `torch.load` with `weights_only=False` (the current default value), which uses the default pickle module implicitly. It is possible to construct malicious pickle data which will execute arbitrary code during unpickling (See https://github.com/pytorch/pytorch/blob/main/SECURITY.md#untrusted-models for more details). In a future release, the default value for `weights_only` will be flipped to `True`. This limits the functions that could be executed during unpickling. Arbitrary objects will no longer be allowed to be loaded via this mode unless they are explicitly allowlisted by the user via `torch.serialization.add_safe_globals`. We recommend you start setting `weights_only=True` for any use case where you don't have full control of the loaded file. Please open an issue on GitHub for any issues related to this experimental feature.\n",
      "  cuda_attrs = torch.load(f, **load_kwargs)\n",
      "/home/khalil/ls/envs/sfml/lib/python3.12/site-packages/skorch/net.py:2261: FutureWarning: You are using `torch.load` with `weights_only=False` (the current default value), which uses the default pickle module implicitly. It is possible to construct malicious pickle data which will execute arbitrary code during unpickling (See https://github.com/pytorch/pytorch/blob/main/SECURITY.md#untrusted-models for more details). In a future release, the default value for `weights_only` will be flipped to `True`. This limits the functions that could be executed during unpickling. Arbitrary objects will no longer be allowed to be loaded via this mode unless they are explicitly allowlisted by the user via `torch.serialization.add_safe_globals`. We recommend you start setting `weights_only=True` for any use case where you don't have full control of the loaded file. Please open an issue on GitHub for any issues related to this experimental feature.\n",
      "  cuda_attrs = torch.load(f, **load_kwargs)\n"
     ]
    },
    {
     "data": {
      "text/plain": [
       "np.float64(4.524839878082275)"
      ]
     },
     "execution_count": 65,
     "metadata": {},
     "output_type": "execute_result"
    }
   ],
   "source": [
    "#Guided \n",
    "logo_cv(x_g_cnn,y_g_torch,pipe_cnn,groups_g)"
   ]
  },
  {
   "cell_type": "code",
   "execution_count": 66,
   "id": "481393f0-067b-4b53-aa0c-c7ba38a5bf7d",
   "metadata": {
    "scrolled": true
   },
   "outputs": [
    {
     "name": "stderr",
     "output_type": "stream",
     "text": [
      "/home/khalil/ls/envs/sfml/lib/python3.12/site-packages/skorch/net.py:2261: FutureWarning: You are using `torch.load` with `weights_only=False` (the current default value), which uses the default pickle module implicitly. It is possible to construct malicious pickle data which will execute arbitrary code during unpickling (See https://github.com/pytorch/pytorch/blob/main/SECURITY.md#untrusted-models for more details). In a future release, the default value for `weights_only` will be flipped to `True`. This limits the functions that could be executed during unpickling. Arbitrary objects will no longer be allowed to be loaded via this mode unless they are explicitly allowlisted by the user via `torch.serialization.add_safe_globals`. We recommend you start setting `weights_only=True` for any use case where you don't have full control of the loaded file. Please open an issue on GitHub for any issues related to this experimental feature.\n",
      "  cuda_attrs = torch.load(f, **load_kwargs)\n",
      "/home/khalil/ls/envs/sfml/lib/python3.12/site-packages/skorch/net.py:2261: FutureWarning: You are using `torch.load` with `weights_only=False` (the current default value), which uses the default pickle module implicitly. It is possible to construct malicious pickle data which will execute arbitrary code during unpickling (See https://github.com/pytorch/pytorch/blob/main/SECURITY.md#untrusted-models for more details). In a future release, the default value for `weights_only` will be flipped to `True`. This limits the functions that could be executed during unpickling. Arbitrary objects will no longer be allowed to be loaded via this mode unless they are explicitly allowlisted by the user via `torch.serialization.add_safe_globals`. We recommend you start setting `weights_only=True` for any use case where you don't have full control of the loaded file. Please open an issue on GitHub for any issues related to this experimental feature.\n",
      "  cuda_attrs = torch.load(f, **load_kwargs)\n",
      "/home/khalil/ls/envs/sfml/lib/python3.12/site-packages/skorch/net.py:2261: FutureWarning: You are using `torch.load` with `weights_only=False` (the current default value), which uses the default pickle module implicitly. It is possible to construct malicious pickle data which will execute arbitrary code during unpickling (See https://github.com/pytorch/pytorch/blob/main/SECURITY.md#untrusted-models for more details). In a future release, the default value for `weights_only` will be flipped to `True`. This limits the functions that could be executed during unpickling. Arbitrary objects will no longer be allowed to be loaded via this mode unless they are explicitly allowlisted by the user via `torch.serialization.add_safe_globals`. We recommend you start setting `weights_only=True` for any use case where you don't have full control of the loaded file. Please open an issue on GitHub for any issues related to this experimental feature.\n",
      "  cuda_attrs = torch.load(f, **load_kwargs)\n",
      "/home/khalil/ls/envs/sfml/lib/python3.12/site-packages/skorch/net.py:2261: FutureWarning: You are using `torch.load` with `weights_only=False` (the current default value), which uses the default pickle module implicitly. It is possible to construct malicious pickle data which will execute arbitrary code during unpickling (See https://github.com/pytorch/pytorch/blob/main/SECURITY.md#untrusted-models for more details). In a future release, the default value for `weights_only` will be flipped to `True`. This limits the functions that could be executed during unpickling. Arbitrary objects will no longer be allowed to be loaded via this mode unless they are explicitly allowlisted by the user via `torch.serialization.add_safe_globals`. We recommend you start setting `weights_only=True` for any use case where you don't have full control of the loaded file. Please open an issue on GitHub for any issues related to this experimental feature.\n",
      "  cuda_attrs = torch.load(f, **load_kwargs)\n",
      "/home/khalil/ls/envs/sfml/lib/python3.12/site-packages/skorch/net.py:2261: FutureWarning: You are using `torch.load` with `weights_only=False` (the current default value), which uses the default pickle module implicitly. It is possible to construct malicious pickle data which will execute arbitrary code during unpickling (See https://github.com/pytorch/pytorch/blob/main/SECURITY.md#untrusted-models for more details). In a future release, the default value for `weights_only` will be flipped to `True`. This limits the functions that could be executed during unpickling. Arbitrary objects will no longer be allowed to be loaded via this mode unless they are explicitly allowlisted by the user via `torch.serialization.add_safe_globals`. We recommend you start setting `weights_only=True` for any use case where you don't have full control of the loaded file. Please open an issue on GitHub for any issues related to this experimental feature.\n",
      "  cuda_attrs = torch.load(f, **load_kwargs)\n"
     ]
    },
    {
     "data": {
      "text/plain": [
       "np.float64(10.922449111938477)"
      ]
     },
     "execution_count": 66,
     "metadata": {},
     "output_type": "execute_result"
    }
   ],
   "source": [
    "#Free \n",
    "logo_cv(x_f_cnn,y_f_torch,pipe_cnn,groups_f)"
   ]
  },
  {
   "cell_type": "markdown",
   "id": "aa697c54-4470-4b2c-bcf3-17aaef1787ba",
   "metadata": {},
   "source": [
    "Observations with the CNN\n",
    "\n",
    "+ For Guided dataset, outperforming ~(4.70  vs 4.96) rmse from best baseline (random forest with embedded feature selection):\n",
    "\n",
    "The CNN outperforms both the RF baseline and the covariance pipeline. Its stacked convolutions and pooling stages excel at modeling the repetitive, localized temporal features inherent to the guided gestures.\n",
    "\n",
    "+ For Free dataset, not outperforming ~ (11.68. vs 10.72) rmse from the covariance pipeline:\n",
    " \n",
    "By contrast, the CNN does worse than the covariance method. Free gestures are very varied and noisy, different electrodes fire together in complicated ways. The covariance pipeline directly summarizes how each pair of sensors varies together  and uses OAS shrinkage to keep those estimates stable even with few samples. The CNN, however, has to learn all of that from the raw signals and can’t do it reliably when the data are noisy and limited."
   ]
  },
  {
   "cell_type": "markdown",
   "id": "81743b8a-4a38-45d9-9573-a10aea1bd82d",
   "metadata": {},
   "source": [
    "### Neural Network Hybrid"
   ]
  },
  {
   "cell_type": "markdown",
   "id": "1efa18fb-5ea3-4113-b6f5-ea147ac4ce16",
   "metadata": {},
   "source": [
    "Although the CNN achieved lower mean RMSE than the covariance pipeline on the guided set, its training time was longer. To combine the CNN accuracy with the covariance approach speed, I built a hybrid version, after computing OAS regularized covariance matrices and projecting them into tangent space, I replaced the heavy CNN with a lightweight, two-layer neural network. This hybrid comes close to the CNN performance on the guided dataset, still outperforms CNN on the free set, and trains and runs in a fraction of the time.\n",
    "\n",
    "Compared to the original covariance pipeline, it delivers a lower average RMSE, which should translate into stronger results when we incorporate it, latter, into our ensembling strategies."
   ]
  },
  {
   "cell_type": "code",
   "execution_count": 67,
   "id": "31f30203-cd48-43a9-ab37-9fb99af161c8",
   "metadata": {},
   "outputs": [],
   "source": [
    "from sklearn.preprocessing import FunctionTransformer\n",
    "\n",
    "#Small nn\n",
    "class Cov_nn(nn.Module):\n",
    "    def __init__(self):\n",
    "        super().__init__()\n",
    "        self.s = nn.Sequential(\n",
    "          nn.Linear(36, 128),\n",
    "          nn.ReLU(),\n",
    "          nn.Dropout(0.3),\n",
    "          nn.Linear(128, 64),\n",
    "          nn.ReLU(),\n",
    "          nn.Dropout(0.3),\n",
    "          nn.Linear(64, 51)\n",
    "        )\n",
    "\n",
    "    def forward(self, x):\n",
    "        return self.s(x)\n",
    "\n",
    "net_nn2 = NeuralNetRegressor(\n",
    "    module      = Cov_nn,\n",
    "    max_epochs  = 200,\n",
    "    lr          = 1e-3,\n",
    "    batch_size  = 64,\n",
    "    optimizer   = torch.optim.Adam,\n",
    "    callbacks=[('earlystop', EarlyStopping('valid_loss', patience=10)), # Stop if validation loss doesn't improve for 5 epochs \n",
    "                    ('lr_sched', LRScheduler(\n",
    "           policy=torch.optim.lr_scheduler.ReduceLROnPlateau, # Halve LR if validation loss stalls for 3 epochs\n",
    "           monitor='valid_loss',\n",
    "           patience=3, factor=0.5))],\n",
    "    verbose = 0 # !!! verbose=1 to see the training loss and validation loss at each epoch.\n",
    ")\n",
    "\n",
    "\n",
    "pipe_fusion = Pipeline([\n",
    "    ('cov',   Covariances(estimator='oas')),   \n",
    "    ('ts',    TangentSpace()),                \n",
    "    ('scale', StandardScaler()),               \n",
    "    ('cast',  FunctionTransformer(lambda X: X.astype(np.float32), validate=False)), # cast to float32 for PyTorch compatibility\n",
    "    ('nn',   net_nn2)                          \n",
    "])\n"
   ]
  },
  {
   "cell_type": "code",
   "execution_count": 68,
   "id": "4d8fd8ab-0d50-484f-9a9a-e152392d53dd",
   "metadata": {
    "scrolled": true
   },
   "outputs": [
    {
     "name": "stderr",
     "output_type": "stream",
     "text": [
      "/home/khalil/ls/envs/sfml/lib/python3.12/site-packages/skorch/net.py:2261: FutureWarning: You are using `torch.load` with `weights_only=False` (the current default value), which uses the default pickle module implicitly. It is possible to construct malicious pickle data which will execute arbitrary code during unpickling (See https://github.com/pytorch/pytorch/blob/main/SECURITY.md#untrusted-models for more details). In a future release, the default value for `weights_only` will be flipped to `True`. This limits the functions that could be executed during unpickling. Arbitrary objects will no longer be allowed to be loaded via this mode unless they are explicitly allowlisted by the user via `torch.serialization.add_safe_globals`. We recommend you start setting `weights_only=True` for any use case where you don't have full control of the loaded file. Please open an issue on GitHub for any issues related to this experimental feature.\n",
      "  cuda_attrs = torch.load(f, **load_kwargs)\n",
      "/home/khalil/ls/envs/sfml/lib/python3.12/site-packages/skorch/net.py:2261: FutureWarning: You are using `torch.load` with `weights_only=False` (the current default value), which uses the default pickle module implicitly. It is possible to construct malicious pickle data which will execute arbitrary code during unpickling (See https://github.com/pytorch/pytorch/blob/main/SECURITY.md#untrusted-models for more details). In a future release, the default value for `weights_only` will be flipped to `True`. This limits the functions that could be executed during unpickling. Arbitrary objects will no longer be allowed to be loaded via this mode unless they are explicitly allowlisted by the user via `torch.serialization.add_safe_globals`. We recommend you start setting `weights_only=True` for any use case where you don't have full control of the loaded file. Please open an issue on GitHub for any issues related to this experimental feature.\n",
      "  cuda_attrs = torch.load(f, **load_kwargs)\n",
      "/home/khalil/ls/envs/sfml/lib/python3.12/site-packages/skorch/net.py:2261: FutureWarning: You are using `torch.load` with `weights_only=False` (the current default value), which uses the default pickle module implicitly. It is possible to construct malicious pickle data which will execute arbitrary code during unpickling (See https://github.com/pytorch/pytorch/blob/main/SECURITY.md#untrusted-models for more details). In a future release, the default value for `weights_only` will be flipped to `True`. This limits the functions that could be executed during unpickling. Arbitrary objects will no longer be allowed to be loaded via this mode unless they are explicitly allowlisted by the user via `torch.serialization.add_safe_globals`. We recommend you start setting `weights_only=True` for any use case where you don't have full control of the loaded file. Please open an issue on GitHub for any issues related to this experimental feature.\n",
      "  cuda_attrs = torch.load(f, **load_kwargs)\n",
      "/home/khalil/ls/envs/sfml/lib/python3.12/site-packages/skorch/net.py:2261: FutureWarning: You are using `torch.load` with `weights_only=False` (the current default value), which uses the default pickle module implicitly. It is possible to construct malicious pickle data which will execute arbitrary code during unpickling (See https://github.com/pytorch/pytorch/blob/main/SECURITY.md#untrusted-models for more details). In a future release, the default value for `weights_only` will be flipped to `True`. This limits the functions that could be executed during unpickling. Arbitrary objects will no longer be allowed to be loaded via this mode unless they are explicitly allowlisted by the user via `torch.serialization.add_safe_globals`. We recommend you start setting `weights_only=True` for any use case where you don't have full control of the loaded file. Please open an issue on GitHub for any issues related to this experimental feature.\n",
      "  cuda_attrs = torch.load(f, **load_kwargs)\n",
      "/home/khalil/ls/envs/sfml/lib/python3.12/site-packages/skorch/net.py:2261: FutureWarning: You are using `torch.load` with `weights_only=False` (the current default value), which uses the default pickle module implicitly. It is possible to construct malicious pickle data which will execute arbitrary code during unpickling (See https://github.com/pytorch/pytorch/blob/main/SECURITY.md#untrusted-models for more details). In a future release, the default value for `weights_only` will be flipped to `True`. This limits the functions that could be executed during unpickling. Arbitrary objects will no longer be allowed to be loaded via this mode unless they are explicitly allowlisted by the user via `torch.serialization.add_safe_globals`. We recommend you start setting `weights_only=True` for any use case where you don't have full control of the loaded file. Please open an issue on GitHub for any issues related to this experimental feature.\n",
      "  cuda_attrs = torch.load(f, **load_kwargs)\n"
     ]
    },
    {
     "data": {
      "text/plain": [
       "np.float64(5.0832422256469725)"
      ]
     },
     "execution_count": 68,
     "metadata": {},
     "output_type": "execute_result"
    }
   ],
   "source": [
    "#Guided\n",
    "logo_cv(X_g_train_sample,y_g_torch,pipe_fusion,groups_g)"
   ]
  },
  {
   "attachments": {
    "c5b1ce18-f02d-4e0c-a5ff-e432e9f03531.png": {
     "image/png": "[encoded data removed]"
    }
   },
   "cell_type": "markdown",
   "id": "86c51b3e-3c59-4569-90e5-efc6769e4039",
   "metadata": {},
   "source": [
    "![download.png](attachment:c5b1ce18-f02d-4e0c-a5ff-e432e9f03531.png)"
   ]
  },
  {
   "cell_type": "code",
   "execution_count": 69,
   "id": "3ad7d939-b5fa-4b9e-999c-42f8be5c563b",
   "metadata": {
    "scrolled": true
   },
   "outputs": [
    {
     "name": "stderr",
     "output_type": "stream",
     "text": [
      "/home/khalil/ls/envs/sfml/lib/python3.12/site-packages/skorch/net.py:2261: FutureWarning: You are using `torch.load` with `weights_only=False` (the current default value), which uses the default pickle module implicitly. It is possible to construct malicious pickle data which will execute arbitrary code during unpickling (See https://github.com/pytorch/pytorch/blob/main/SECURITY.md#untrusted-models for more details). In a future release, the default value for `weights_only` will be flipped to `True`. This limits the functions that could be executed during unpickling. Arbitrary objects will no longer be allowed to be loaded via this mode unless they are explicitly allowlisted by the user via `torch.serialization.add_safe_globals`. We recommend you start setting `weights_only=True` for any use case where you don't have full control of the loaded file. Please open an issue on GitHub for any issues related to this experimental feature.\n",
      "  cuda_attrs = torch.load(f, **load_kwargs)\n",
      "/home/khalil/ls/envs/sfml/lib/python3.12/site-packages/skorch/net.py:2261: FutureWarning: You are using `torch.load` with `weights_only=False` (the current default value), which uses the default pickle module implicitly. It is possible to construct malicious pickle data which will execute arbitrary code during unpickling (See https://github.com/pytorch/pytorch/blob/main/SECURITY.md#untrusted-models for more details). In a future release, the default value for `weights_only` will be flipped to `True`. This limits the functions that could be executed during unpickling. Arbitrary objects will no longer be allowed to be loaded via this mode unless they are explicitly allowlisted by the user via `torch.serialization.add_safe_globals`. We recommend you start setting `weights_only=True` for any use case where you don't have full control of the loaded file. Please open an issue on GitHub for any issues related to this experimental feature.\n",
      "  cuda_attrs = torch.load(f, **load_kwargs)\n",
      "/home/khalil/ls/envs/sfml/lib/python3.12/site-packages/skorch/net.py:2261: FutureWarning: You are using `torch.load` with `weights_only=False` (the current default value), which uses the default pickle module implicitly. It is possible to construct malicious pickle data which will execute arbitrary code during unpickling (See https://github.com/pytorch/pytorch/blob/main/SECURITY.md#untrusted-models for more details). In a future release, the default value for `weights_only` will be flipped to `True`. This limits the functions that could be executed during unpickling. Arbitrary objects will no longer be allowed to be loaded via this mode unless they are explicitly allowlisted by the user via `torch.serialization.add_safe_globals`. We recommend you start setting `weights_only=True` for any use case where you don't have full control of the loaded file. Please open an issue on GitHub for any issues related to this experimental feature.\n",
      "  cuda_attrs = torch.load(f, **load_kwargs)\n",
      "/home/khalil/ls/envs/sfml/lib/python3.12/site-packages/skorch/net.py:2261: FutureWarning: You are using `torch.load` with `weights_only=False` (the current default value), which uses the default pickle module implicitly. It is possible to construct malicious pickle data which will execute arbitrary code during unpickling (See https://github.com/pytorch/pytorch/blob/main/SECURITY.md#untrusted-models for more details). In a future release, the default value for `weights_only` will be flipped to `True`. This limits the functions that could be executed during unpickling. Arbitrary objects will no longer be allowed to be loaded via this mode unless they are explicitly allowlisted by the user via `torch.serialization.add_safe_globals`. We recommend you start setting `weights_only=True` for any use case where you don't have full control of the loaded file. Please open an issue on GitHub for any issues related to this experimental feature.\n",
      "  cuda_attrs = torch.load(f, **load_kwargs)\n",
      "/home/khalil/ls/envs/sfml/lib/python3.12/site-packages/skorch/net.py:2261: FutureWarning: You are using `torch.load` with `weights_only=False` (the current default value), which uses the default pickle module implicitly. It is possible to construct malicious pickle data which will execute arbitrary code during unpickling (See https://github.com/pytorch/pytorch/blob/main/SECURITY.md#untrusted-models for more details). In a future release, the default value for `weights_only` will be flipped to `True`. This limits the functions that could be executed during unpickling. Arbitrary objects will no longer be allowed to be loaded via this mode unless they are explicitly allowlisted by the user via `torch.serialization.add_safe_globals`. We recommend you start setting `weights_only=True` for any use case where you don't have full control of the loaded file. Please open an issue on GitHub for any issues related to this experimental feature.\n",
      "  cuda_attrs = torch.load(f, **load_kwargs)\n"
     ]
    },
    {
     "data": {
      "text/plain": [
       "np.float64(10.522485542297364)"
      ]
     },
     "execution_count": 69,
     "metadata": {},
     "output_type": "execute_result"
    }
   ],
   "source": [
    "#Free \n",
    "logo_cv(X_f_train_sample,y_f_torch,pipe_fusion,groups_f)"
   ]
  },
  {
   "attachments": {
    "04be15bb-23e5-449f-95ac-ab7e2004a155.png": {
     "image/png": "[encoded data removed]"
    }
   },
   "cell_type": "markdown",
   "id": "5ee8ff07-51ad-4915-b6ae-777301fb2062",
   "metadata": {},
   "source": [
    "![download.png](attachment:04be15bb-23e5-449f-95ac-ab7e2004a155.png)"
   ]
  },
  {
   "cell_type": "code",
   "execution_count": 70,
   "id": "581bd2e5-9231-4b99-bf11-4caaafefb82b",
   "metadata": {
    "scrolled": true
   },
   "outputs": [
    {
     "data": {
      "text/plain": [
       "\" For drawing the previous graph \\nimport matplotlib.pyplot as plt\\n\\n\\n\\ndef plot(pipeline):\\n    history = pipeline.named_steps['nn'].history\\n    \\n    epochs = history[:, 'epoch']\\n    train_loss = history[:, 'train_loss']\\n    valid_loss = history[:, 'valid_loss']\\n    \\n    plt.plot(epochs, train_loss, label='Train loss')\\n    plt.plot(epochs, valid_loss, label='Valid loss')\\n    plt.xlabel('Epoch')\\n    plt.ylabel('MSE Loss')\\n    plt.title('Train/Validation Loss')\\n    plt.legend()\\n    plt.show()\\n\\npipe_fusion.fit(X_g_train_sample, y_g_torch)\\nplot(pipe_fusion)\\npipe_fusion.fit(X_f_train_sample, y_f_torch)\\nplot(pipe_fusion)\\n\""
      ]
     },
     "execution_count": 70,
     "metadata": {},
     "output_type": "execute_result"
    }
   ],
   "source": [
    "''' For drawing the previous graph \n",
    "import matplotlib.pyplot as plt\n",
    "\n",
    "\n",
    "\n",
    "def plot(pipeline):\n",
    "    history = pipeline.named_steps['nn'].history\n",
    "    \n",
    "    epochs = history[:, 'epoch']\n",
    "    train_loss = history[:, 'train_loss']\n",
    "    valid_loss = history[:, 'valid_loss']\n",
    "    \n",
    "    plt.plot(epochs, train_loss, label='Train loss')\n",
    "    plt.plot(epochs, valid_loss, label='Valid loss')\n",
    "    plt.xlabel('Epoch')\n",
    "    plt.ylabel('MSE Loss')\n",
    "    plt.title('Train/Validation Loss')\n",
    "    plt.legend()\n",
    "    plt.show()\n",
    "\n",
    "pipe_fusion.fit(X_g_train_sample, y_g_torch)\n",
    "plot(pipe_fusion)\n",
    "pipe_fusion.fit(X_f_train_sample, y_f_torch)\n",
    "plot(pipe_fusion)\n",
    "'''"
   ]
  },
  {
   "cell_type": "markdown",
   "id": "84d1a23d",
   "metadata": {},
   "source": [
    "TODO: automate"
   ]
  },
  {
   "cell_type": "markdown",
   "id": "1b88892c-6c6b-431a-adf4-9a39b62f097b",
   "metadata": {},
   "source": [
    "| Method                                   | RMSE Guided | RMSE  Free |\n",
    "|------------------------------------------|-------------------|------------------:|\n",
    "| Basic Lasso                              |      18.73 | 15.78 |\n",
    "| Random Forest with Guided = Embedded and Free = PCA    |   4.96 |10.98 |\n",
    "| Covariance matrices + Lasso              |       7.71 | 10.72 |\n",
    "| Covariance matrices + Neural Network     |       5.08 | 10.56|\n",
    "| Convolutional Neural Network             |       4.70 | 11.68|"
   ]
  },
  {
   "cell_type": "markdown",
   "id": "7ee27e1f",
   "metadata": {},
   "source": [
    "___\n",
    "\n",
    "## Ensembling approaches\n",
    "\n",
    "For this question, we will use all 3 indivual models implemented so far, all 3 trained on different data representations:\n",
    "\n",
    "- Common time domain features (simple statistics) - baselines\n",
    "- Tangentes spaces of the signals - Neural Net\n",
    "- Filtered raw signal data - CNN\n",
    "\n",
    "For simplicity and time constraints reason, we will use sklearn cross_val_predict to get individual models predictions make respecting the cross validation folds (respecting trainign folds), and manipulate them to form the cross validated predictions of the ensemble algorithm. \n",
    "\n",
    "This has limitations as rmse is not sample decomposable, due to the square root function, so in our case we compute the 'gloabl' rmse compared to the averaged over folds rmse (like in cross_val_score or our custom _logo_cv)."
   ]
  },
  {
   "cell_type": "markdown",
   "id": "c3b59c5f-ae75-4b73-aba9-fc03811f0a23",
   "metadata": {},
   "source": [
    "### Averaging\n",
    "\n",
    "This approach avrages the indivudal predictions, it is different from traditional bagging because every is trained in same input data, no bootstrap sample.\\\n",
    "This can seems concernign as averaging predictions reduce variance under the assumption of uncorrelated erros, and bootstrap sampling was playing this role, but in our case, the fact that evey model handles input data represented differently can substitue bootstraping. So models should make less / limit correlated erros because they operate on different interpretations/patterns of the same data, simple time feature statistics (temporal), covariance matrice (spatial) and raw signals (both)."
   ]
  },
  {
   "cell_type": "code",
   "execution_count": null,
   "id": "abc0cffb-2626-4e8b-92ed-fac90d0b30f2",
   "metadata": {},
   "outputs": [],
   "source": [
    "# baseline pipelines without X transforme as we work directly with processed input for simplicity\n",
    "\n",
    "final_baseline_pipe_g_predict = make_pipeline(\n",
    "    SelectFromModel(baselines['random_forest'], threshold=0, max_features=34),\n",
    "    baselines['random_forest']\n",
    ")\n",
    "\n",
    "final_baseline_pipe_f_predict = make_pipeline(\n",
    "    StandardScaler(),\n",
    "    PCA(n_components=38),\n",
    "    baselines['random_forest']\n",
    ")"
   ]
  },
  {
   "cell_type": "code",
   "execution_count": null,
   "id": "e37d489f-ed2c-424e-8971-80e54f2d2f1c",
   "metadata": {
    "scrolled": true
   },
   "outputs": [
    {
     "name": "stderr",
     "output_type": "stream",
     "text": [
      "/home/khalil/ls/envs/sfml/lib/python3.12/site-packages/skorch/net.py:2261: FutureWarning: You are using `torch.load` with `weights_only=False` (the current default value), which uses the default pickle module implicitly. It is possible to construct malicious pickle data which will execute arbitrary code during unpickling (See https://github.com/pytorch/pytorch/blob/main/SECURITY.md#untrusted-models for more details). In a future release, the default value for `weights_only` will be flipped to `True`. This limits the functions that could be executed during unpickling. Arbitrary objects will no longer be allowed to be loaded via this mode unless they are explicitly allowlisted by the user via `torch.serialization.add_safe_globals`. We recommend you start setting `weights_only=True` for any use case where you don't have full control of the loaded file. Please open an issue on GitHub for any issues related to this experimental feature.\n",
      "  cuda_attrs = torch.load(f, **load_kwargs)\n",
      "/home/khalil/ls/envs/sfml/lib/python3.12/site-packages/skorch/net.py:2261: FutureWarning: You are using `torch.load` with `weights_only=False` (the current default value), which uses the default pickle module implicitly. It is possible to construct malicious pickle data which will execute arbitrary code during unpickling (See https://github.com/pytorch/pytorch/blob/main/SECURITY.md#untrusted-models for more details). In a future release, the default value for `weights_only` will be flipped to `True`. This limits the functions that could be executed during unpickling. Arbitrary objects will no longer be allowed to be loaded via this mode unless they are explicitly allowlisted by the user via `torch.serialization.add_safe_globals`. We recommend you start setting `weights_only=True` for any use case where you don't have full control of the loaded file. Please open an issue on GitHub for any issues related to this experimental feature.\n",
      "  cuda_attrs = torch.load(f, **load_kwargs)\n",
      "/home/khalil/ls/envs/sfml/lib/python3.12/site-packages/skorch/net.py:2261: FutureWarning: You are using `torch.load` with `weights_only=False` (the current default value), which uses the default pickle module implicitly. It is possible to construct malicious pickle data which will execute arbitrary code during unpickling (See https://github.com/pytorch/pytorch/blob/main/SECURITY.md#untrusted-models for more details). In a future release, the default value for `weights_only` will be flipped to `True`. This limits the functions that could be executed during unpickling. Arbitrary objects will no longer be allowed to be loaded via this mode unless they are explicitly allowlisted by the user via `torch.serialization.add_safe_globals`. We recommend you start setting `weights_only=True` for any use case where you don't have full control of the loaded file. Please open an issue on GitHub for any issues related to this experimental feature.\n",
      "  cuda_attrs = torch.load(f, **load_kwargs)\n",
      "/home/khalil/ls/envs/sfml/lib/python3.12/site-packages/skorch/net.py:2261: FutureWarning: You are using `torch.load` with `weights_only=False` (the current default value), which uses the default pickle module implicitly. It is possible to construct malicious pickle data which will execute arbitrary code during unpickling (See https://github.com/pytorch/pytorch/blob/main/SECURITY.md#untrusted-models for more details). In a future release, the default value for `weights_only` will be flipped to `True`. This limits the functions that could be executed during unpickling. Arbitrary objects will no longer be allowed to be loaded via this mode unless they are explicitly allowlisted by the user via `torch.serialization.add_safe_globals`. We recommend you start setting `weights_only=True` for any use case where you don't have full control of the loaded file. Please open an issue on GitHub for any issues related to this experimental feature.\n",
      "  cuda_attrs = torch.load(f, **load_kwargs)\n",
      "/home/khalil/ls/envs/sfml/lib/python3.12/site-packages/skorch/net.py:2261: FutureWarning: You are using `torch.load` with `weights_only=False` (the current default value), which uses the default pickle module implicitly. It is possible to construct malicious pickle data which will execute arbitrary code during unpickling (See https://github.com/pytorch/pytorch/blob/main/SECURITY.md#untrusted-models for more details). In a future release, the default value for `weights_only` will be flipped to `True`. This limits the functions that could be executed during unpickling. Arbitrary objects will no longer be allowed to be loaded via this mode unless they are explicitly allowlisted by the user via `torch.serialization.add_safe_globals`. We recommend you start setting `weights_only=True` for any use case where you don't have full control of the loaded file. Please open an issue on GitHub for any issues related to this experimental feature.\n",
      "  cuda_attrs = torch.load(f, **load_kwargs)\n",
      "/home/khalil/ls/envs/sfml/lib/python3.12/site-packages/skorch/net.py:2261: FutureWarning: You are using `torch.load` with `weights_only=False` (the current default value), which uses the default pickle module implicitly. It is possible to construct malicious pickle data which will execute arbitrary code during unpickling (See https://github.com/pytorch/pytorch/blob/main/SECURITY.md#untrusted-models for more details). In a future release, the default value for `weights_only` will be flipped to `True`. This limits the functions that could be executed during unpickling. Arbitrary objects will no longer be allowed to be loaded via this mode unless they are explicitly allowlisted by the user via `torch.serialization.add_safe_globals`. We recommend you start setting `weights_only=True` for any use case where you don't have full control of the loaded file. Please open an issue on GitHub for any issues related to this experimental feature.\n",
      "  cuda_attrs = torch.load(f, **load_kwargs)\n",
      "/home/khalil/ls/envs/sfml/lib/python3.12/site-packages/skorch/net.py:2261: FutureWarning: You are using `torch.load` with `weights_only=False` (the current default value), which uses the default pickle module implicitly. It is possible to construct malicious pickle data which will execute arbitrary code during unpickling (See https://github.com/pytorch/pytorch/blob/main/SECURITY.md#untrusted-models for more details). In a future release, the default value for `weights_only` will be flipped to `True`. This limits the functions that could be executed during unpickling. Arbitrary objects will no longer be allowed to be loaded via this mode unless they are explicitly allowlisted by the user via `torch.serialization.add_safe_globals`. We recommend you start setting `weights_only=True` for any use case where you don't have full control of the loaded file. Please open an issue on GitHub for any issues related to this experimental feature.\n",
      "  cuda_attrs = torch.load(f, **load_kwargs)\n",
      "/home/khalil/ls/envs/sfml/lib/python3.12/site-packages/skorch/net.py:2261: FutureWarning: You are using `torch.load` with `weights_only=False` (the current default value), which uses the default pickle module implicitly. It is possible to construct malicious pickle data which will execute arbitrary code during unpickling (See https://github.com/pytorch/pytorch/blob/main/SECURITY.md#untrusted-models for more details). In a future release, the default value for `weights_only` will be flipped to `True`. This limits the functions that could be executed during unpickling. Arbitrary objects will no longer be allowed to be loaded via this mode unless they are explicitly allowlisted by the user via `torch.serialization.add_safe_globals`. We recommend you start setting `weights_only=True` for any use case where you don't have full control of the loaded file. Please open an issue on GitHub for any issues related to this experimental feature.\n",
      "  cuda_attrs = torch.load(f, **load_kwargs)\n",
      "/home/khalil/ls/envs/sfml/lib/python3.12/site-packages/skorch/net.py:2261: FutureWarning: You are using `torch.load` with `weights_only=False` (the current default value), which uses the default pickle module implicitly. It is possible to construct malicious pickle data which will execute arbitrary code during unpickling (See https://github.com/pytorch/pytorch/blob/main/SECURITY.md#untrusted-models for more details). In a future release, the default value for `weights_only` will be flipped to `True`. This limits the functions that could be executed during unpickling. Arbitrary objects will no longer be allowed to be loaded via this mode unless they are explicitly allowlisted by the user via `torch.serialization.add_safe_globals`. We recommend you start setting `weights_only=True` for any use case where you don't have full control of the loaded file. Please open an issue on GitHub for any issues related to this experimental feature.\n",
      "  cuda_attrs = torch.load(f, **load_kwargs)\n",
      "/home/khalil/ls/envs/sfml/lib/python3.12/site-packages/skorch/net.py:2261: FutureWarning: You are using `torch.load` with `weights_only=False` (the current default value), which uses the default pickle module implicitly. It is possible to construct malicious pickle data which will execute arbitrary code during unpickling (See https://github.com/pytorch/pytorch/blob/main/SECURITY.md#untrusted-models for more details). In a future release, the default value for `weights_only` will be flipped to `True`. This limits the functions that could be executed during unpickling. Arbitrary objects will no longer be allowed to be loaded via this mode unless they are explicitly allowlisted by the user via `torch.serialization.add_safe_globals`. We recommend you start setting `weights_only=True` for any use case where you don't have full control of the loaded file. Please open an issue on GitHub for any issues related to this experimental feature.\n",
      "  cuda_attrs = torch.load(f, **load_kwargs)\n",
      "/home/khalil/ls/envs/sfml/lib/python3.12/site-packages/skorch/net.py:2261: FutureWarning: You are using `torch.load` with `weights_only=False` (the current default value), which uses the default pickle module implicitly. It is possible to construct malicious pickle data which will execute arbitrary code during unpickling (See https://github.com/pytorch/pytorch/blob/main/SECURITY.md#untrusted-models for more details). In a future release, the default value for `weights_only` will be flipped to `True`. This limits the functions that could be executed during unpickling. Arbitrary objects will no longer be allowed to be loaded via this mode unless they are explicitly allowlisted by the user via `torch.serialization.add_safe_globals`. We recommend you start setting `weights_only=True` for any use case where you don't have full control of the loaded file. Please open an issue on GitHub for any issues related to this experimental feature.\n",
      "  cuda_attrs = torch.load(f, **load_kwargs)\n",
      "/home/khalil/ls/envs/sfml/lib/python3.12/site-packages/skorch/net.py:2261: FutureWarning: You are using `torch.load` with `weights_only=False` (the current default value), which uses the default pickle module implicitly. It is possible to construct malicious pickle data which will execute arbitrary code during unpickling (See https://github.com/pytorch/pytorch/blob/main/SECURITY.md#untrusted-models for more details). In a future release, the default value for `weights_only` will be flipped to `True`. This limits the functions that could be executed during unpickling. Arbitrary objects will no longer be allowed to be loaded via this mode unless they are explicitly allowlisted by the user via `torch.serialization.add_safe_globals`. We recommend you start setting `weights_only=True` for any use case where you don't have full control of the loaded file. Please open an issue on GitHub for any issues related to this experimental feature.\n",
      "  cuda_attrs = torch.load(f, **load_kwargs)\n",
      "/home/khalil/ls/envs/sfml/lib/python3.12/site-packages/skorch/net.py:2261: FutureWarning: You are using `torch.load` with `weights_only=False` (the current default value), which uses the default pickle module implicitly. It is possible to construct malicious pickle data which will execute arbitrary code during unpickling (See https://github.com/pytorch/pytorch/blob/main/SECURITY.md#untrusted-models for more details). In a future release, the default value for `weights_only` will be flipped to `True`. This limits the functions that could be executed during unpickling. Arbitrary objects will no longer be allowed to be loaded via this mode unless they are explicitly allowlisted by the user via `torch.serialization.add_safe_globals`. We recommend you start setting `weights_only=True` for any use case where you don't have full control of the loaded file. Please open an issue on GitHub for any issues related to this experimental feature.\n",
      "  cuda_attrs = torch.load(f, **load_kwargs)\n",
      "/home/khalil/ls/envs/sfml/lib/python3.12/site-packages/skorch/net.py:2261: FutureWarning: You are using `torch.load` with `weights_only=False` (the current default value), which uses the default pickle module implicitly. It is possible to construct malicious pickle data which will execute arbitrary code during unpickling (See https://github.com/pytorch/pytorch/blob/main/SECURITY.md#untrusted-models for more details). In a future release, the default value for `weights_only` will be flipped to `True`. This limits the functions that could be executed during unpickling. Arbitrary objects will no longer be allowed to be loaded via this mode unless they are explicitly allowlisted by the user via `torch.serialization.add_safe_globals`. We recommend you start setting `weights_only=True` for any use case where you don't have full control of the loaded file. Please open an issue on GitHub for any issues related to this experimental feature.\n",
      "  cuda_attrs = torch.load(f, **load_kwargs)\n",
      "/home/khalil/ls/envs/sfml/lib/python3.12/site-packages/skorch/net.py:2261: FutureWarning: You are using `torch.load` with `weights_only=False` (the current default value), which uses the default pickle module implicitly. It is possible to construct malicious pickle data which will execute arbitrary code during unpickling (See https://github.com/pytorch/pytorch/blob/main/SECURITY.md#untrusted-models for more details). In a future release, the default value for `weights_only` will be flipped to `True`. This limits the functions that could be executed during unpickling. Arbitrary objects will no longer be allowed to be loaded via this mode unless they are explicitly allowlisted by the user via `torch.serialization.add_safe_globals`. We recommend you start setting `weights_only=True` for any use case where you don't have full control of the loaded file. Please open an issue on GitHub for any issues related to this experimental feature.\n",
      "  cuda_attrs = torch.load(f, **load_kwargs)\n",
      "/home/khalil/ls/envs/sfml/lib/python3.12/site-packages/skorch/net.py:2261: FutureWarning: You are using `torch.load` with `weights_only=False` (the current default value), which uses the default pickle module implicitly. It is possible to construct malicious pickle data which will execute arbitrary code during unpickling (See https://github.com/pytorch/pytorch/blob/main/SECURITY.md#untrusted-models for more details). In a future release, the default value for `weights_only` will be flipped to `True`. This limits the functions that could be executed during unpickling. Arbitrary objects will no longer be allowed to be loaded via this mode unless they are explicitly allowlisted by the user via `torch.serialization.add_safe_globals`. We recommend you start setting `weights_only=True` for any use case where you don't have full control of the loaded file. Please open an issue on GitHub for any issues related to this experimental feature.\n",
      "  cuda_attrs = torch.load(f, **load_kwargs)\n",
      "/home/khalil/ls/envs/sfml/lib/python3.12/site-packages/skorch/net.py:2261: FutureWarning: You are using `torch.load` with `weights_only=False` (the current default value), which uses the default pickle module implicitly. It is possible to construct malicious pickle data which will execute arbitrary code during unpickling (See https://github.com/pytorch/pytorch/blob/main/SECURITY.md#untrusted-models for more details). In a future release, the default value for `weights_only` will be flipped to `True`. This limits the functions that could be executed during unpickling. Arbitrary objects will no longer be allowed to be loaded via this mode unless they are explicitly allowlisted by the user via `torch.serialization.add_safe_globals`. We recommend you start setting `weights_only=True` for any use case where you don't have full control of the loaded file. Please open an issue on GitHub for any issues related to this experimental feature.\n",
      "  cuda_attrs = torch.load(f, **load_kwargs)\n",
      "/home/khalil/ls/envs/sfml/lib/python3.12/site-packages/skorch/net.py:2261: FutureWarning: You are using `torch.load` with `weights_only=False` (the current default value), which uses the default pickle module implicitly. It is possible to construct malicious pickle data which will execute arbitrary code during unpickling (See https://github.com/pytorch/pytorch/blob/main/SECURITY.md#untrusted-models for more details). In a future release, the default value for `weights_only` will be flipped to `True`. This limits the functions that could be executed during unpickling. Arbitrary objects will no longer be allowed to be loaded via this mode unless they are explicitly allowlisted by the user via `torch.serialization.add_safe_globals`. We recommend you start setting `weights_only=True` for any use case where you don't have full control of the loaded file. Please open an issue on GitHub for any issues related to this experimental feature.\n",
      "  cuda_attrs = torch.load(f, **load_kwargs)\n",
      "/home/khalil/ls/envs/sfml/lib/python3.12/site-packages/skorch/net.py:2261: FutureWarning: You are using `torch.load` with `weights_only=False` (the current default value), which uses the default pickle module implicitly. It is possible to construct malicious pickle data which will execute arbitrary code during unpickling (See https://github.com/pytorch/pytorch/blob/main/SECURITY.md#untrusted-models for more details). In a future release, the default value for `weights_only` will be flipped to `True`. This limits the functions that could be executed during unpickling. Arbitrary objects will no longer be allowed to be loaded via this mode unless they are explicitly allowlisted by the user via `torch.serialization.add_safe_globals`. We recommend you start setting `weights_only=True` for any use case where you don't have full control of the loaded file. Please open an issue on GitHub for any issues related to this experimental feature.\n",
      "  cuda_attrs = torch.load(f, **load_kwargs)\n",
      "/home/khalil/ls/envs/sfml/lib/python3.12/site-packages/skorch/net.py:2261: FutureWarning: You are using `torch.load` with `weights_only=False` (the current default value), which uses the default pickle module implicitly. It is possible to construct malicious pickle data which will execute arbitrary code during unpickling (See https://github.com/pytorch/pytorch/blob/main/SECURITY.md#untrusted-models for more details). In a future release, the default value for `weights_only` will be flipped to `True`. This limits the functions that could be executed during unpickling. Arbitrary objects will no longer be allowed to be loaded via this mode unless they are explicitly allowlisted by the user via `torch.serialization.add_safe_globals`. We recommend you start setting `weights_only=True` for any use case where you don't have full control of the loaded file. Please open an issue on GitHub for any issues related to this experimental feature.\n",
      "  cuda_attrs = torch.load(f, **load_kwargs)\n"
     ]
    }
   ],
   "source": [
    "# Cross validation predictions of each model (predicts respecting cross validation folds, only accesing cv fold informations)\n",
    "\n",
    "# Baseline\n",
    "y_g_predict_rf = cross_val_predict(final_baseline_pipe_g_predict, X_g_train_preproc, y_g_train_preproc, groups=groups_g, cv=logo, n_jobs=-1) \n",
    "y_f_predict_rf = cross_val_predict(final_baseline_pipe_f_predict, X_f_train_preproc, y_f_train_preproc, groups=groups_f, cv=logo, n_jobs=-1)\n",
    "\n",
    "# CNN\n",
    "y_g_predict_cnn = cross_val_predict(pipe_cnn,x_g_cnn, y_g_torch, groups=groups_g, cv=logo, n_jobs=-1)\n",
    "y_f_predict_cnn = cross_val_predict(pipe_cnn,x_f_cnn, y_f_torch, groups=groups_f, cv=logo, n_jobs=-1)\n",
    "\n",
    "# CNN Hybrid\n",
    "y_g_predict_nn_covariance = cross_val_predict(pipe_fusion, X_g_train_sample, y_g_torch, groups=groups_g, cv=logo, n_jobs=-1)\n",
    "y_f_predict_nn_covariance = cross_val_predict(pipe_fusion, X_f_train_sample, y_f_torch, groups=groups_f, cv=logo, n_jobs=-1)\n",
    "\n",
    "y_g_predict_ensemble = (y_g_predict_cnn + y_g_predict_nn_covariance + y_g_predict_rf) / 3 \n",
    "y_f_predict_ensemble = (y_f_predict_cnn + y_f_predict_nn_covariance + y_f_predict_rf) / 3 "
   ]
  },
  {
   "cell_type": "code",
   "execution_count": null,
   "id": "683c4e3d-487c-404f-bc51-d376349509ca",
   "metadata": {},
   "outputs": [
    {
     "name": "stdout",
     "output_type": "stream",
     "text": [
      "Random Forest  | RMSE | guided: 4.99 | free: 11.11 | NSME | guided: 0.05 | free: 0.21 \n",
      "NN + Covariance  | RMSE | guided: 5.11 | free: 10.59 | NMSE | guided: 0.06 | free: 0.19\n",
      "CNN  | RMSE | guided: 4.64 | free: 12.28 | NMSE | guided: 0.05 | free: 0.26\n",
      "Ensemble average | RMSE | guided: 4.22 | free: 10.52  | NMSE | guided: 0.04 | free: 0.19\n"
     ]
    }
   ],
   "source": [
    "def calculate_metrics(y,y_predict):\n",
    "    return rmse(y, y_predict), nmse(y, y_predict)\n",
    " \n",
    "# Guided\n",
    "rmse_g_rf,   nmse_g_rf   = calculate_metrics(y_g_train_preproc, y_g_predict_rf)\n",
    "rmse_g_cnn,   nmse_g_cnn   = calculate_metrics(y_g_train_preproc, y_g_predict_cnn)\n",
    "rmse_g_nn,    nmse_g_nn    = calculate_metrics(y_g_train_preproc, y_g_predict_nn_covariance)\n",
    "rmse_g_ens,   nmse_g_ens   = calculate_metrics(y_g_train_preproc, y_g_predict_ensemble)\n",
    "\n",
    "# Free\n",
    "rmse_f_rf,   nmse_f_rf   = calculate_metrics(y_f_train_preproc, y_f_predict_rf)\n",
    "rmse_f_cnn,   nmse_f_cnn   = calculate_metrics(y_f_train_preproc, y_f_predict_cnn)\n",
    "rmse_f_nn,    nmse_f_nn    = calculate_metrics(y_f_train_preproc, y_f_predict_nn_covariance)\n",
    "rmse_f_ens,   nmse_f_ens   = calculate_metrics(y_f_train_preproc, y_f_predict_ensemble)"
   ]
  },
  {
   "cell_type": "code",
   "execution_count": null,
   "id": "742a9627",
   "metadata": {},
   "outputs": [],
   "source": [
    "print(\"Guided\")\n",
    "print(f\"[Random Forest] rmse = {rmse_g_rf:.2f}, nmse = {nmse_g_rf:.2f}\")\n",
    "print(f\"[NN + Covariance] rmse = {rmse_g_nn:.2f}, nmse = {nmse_g_nn:.2f}\")\n",
    "print(f\"[CNN] rmse = {rmse_g_cnn:.2f}, nmse = {nmse_g_cnn:.2f}\")\n",
    "print()\n",
    "print(f\"[Ensemble average] rmse = {rmse_g_ens:.2f}, nmse = {nmse_g_ens:.2f}\")"
   ]
  },
  {
   "cell_type": "code",
   "execution_count": null,
   "id": "cfae8abe",
   "metadata": {},
   "outputs": [],
   "source": [
    "print(\"Free\")\n",
    "print(f\"[Random Forest] rmse = {rmse_f_rf:.2f}, nmse = {nmse_f_rf:.2f}\")\n",
    "print(f\"[NN + Covariance] rmse = {rmse_f_nn:.2f}, nmse = {nmse_f_nn:.2f}\")\n",
    "print(f\"[CNN] rmse = {rmse_f_cnn:.2f}, nmse = {nmse_f_cnn:.2f}\")\n",
    "print()\n",
    "print(f\"[Ensemble average] rmse = {rmse_f_ens:.2f}, nmse = {nmse_f_ens:.2f}\")"
   ]
  },
  {
   "cell_type": "markdown",
   "id": "4d829cb1",
   "metadata": {},
   "source": [
    "__Discussion__:\n",
    "\n",
    "We observe what was discussed above, a reduction of prediction error (rmse), due to variance reduction (without too much bias increase, rmse bias/variance decomposition).\n",
    "\n",
    "At this point we have our ensemble predictions (y_ensemble) and all the metrics we need for the average method. The power of this approach depends not only on each models individual performance but also on the diversity of their errors. Because we weight every model equally, a very weak model can drag the average down.\n",
    "However, when all the models are accurate enough and make different kinds of mistakes, averaging becomes extremely effective. For example, our CNN excels at learning local, spatial patterns in the raw signal, while our nn + covariance network captures global statistical dependencies over time. Their errors rarely coincide, so when the CNN prediction is off for a given sample, the nn model often compensates it, and vice-versa. By averaging their outputs, we reduce the total variance and achieve a lower rmse/nmse than either model on its own, all without any extra hyperparameter tuning\n"
   ]
  },
  {
   "cell_type": "markdown",
   "id": "76a79b72-fc4f-46ed-8ca7-b2511f959beb",
   "metadata": {},
   "source": [
    "### Stacking"
   ]
  },
  {
   "cell_type": "markdown",
   "id": "5fe57605-05d6-4c14-984f-421d9abbc60c",
   "metadata": {},
   "source": [
    "For the second method, we concatenate the predictions of our models into a new dataset. This dataset will have the form (n_windows, targets × M), with M being the number of different models. After that, we train our model on this data and calculate the RMSE compared to the true y.\n",
    "\n",
    "note: This method shoudl avoid the classic stacking data leakage, since inner modles predictions are gathered with cross_val_predict, if it wasnt and inner modles were trained on whole dataset to generate predictions, then when meta regressor would predict fold k it would be trained on predictions that had information (trained on) of fold k (validation set), causing leakage. "
   ]
  },
  {
   "cell_type": "code",
   "execution_count": null,
   "id": "33f3afd3-3358-425b-b393-53ce5b2728b4",
   "metadata": {},
   "outputs": [
    {
     "name": "stderr",
     "output_type": "stream",
     "text": [
      "/home/khalil/ls/envs/sfml/lib/python3.12/site-packages/sklearn/linear_model/_coordinate_descent.py:695: ConvergenceWarning: Objective did not converge. You might want to increase the number of iterations, check the scale of the features or consider increasing regularisation. Duality gap: 0.000e+00, tolerance: 0.000e+00\n",
      "  model = cd_fast.enet_coordinate_descent(\n"
     ]
    }
   ],
   "source": [
    "# Creation of the new dataset with the prediction of our models \n",
    "x_g_meta = np.concatenate([y_g_predict_cnn, y_g_predict_nn_covariance,y_g_predict_rf], axis=1)\n",
    "x_f_meta = np.concatenate([y_f_predict_cnn, y_f_predict_nn_covariance,y_f_predict_rf], axis=1) \n",
    "\n",
    "# model \n",
    "lasso_model = Pipeline([\n",
    "        ('scaler', StandardScaler()),\n",
    "        ('lasso',  Lasso(alpha=0.1, max_iter=20000))\n",
    "    ])\n",
    "\n",
    "# Calculate the prediction\n",
    "y_g_predict_stack = cross_val_predict(lasso_model,x_g_meta,y_g_train_preproc,groups=groups_g,cv=logo,n_jobs=-1)\n",
    "y_f_predict_stack = cross_val_predict(lasso_model,x_f_meta,y_f_train_preproc,groups=groups_f,cv=logo,n_jobs=-1)\n",
    "\n",
    "\n",
    "#Calculate the metrics \n",
    "rmse_g_stack, nmse_g_stack = calculate_metrics(y_g_train_preproc, y_g_predict_stack)\n",
    "rmse_f_stack, nmse_f_stack = calculate_metrics(y_f_train_preproc, y_f_predict_stack)\n",
    "\n",
    "print(f\"Ensemble stacking | RMSE | guided: {rmse_g_stack:.2f} | free: {rmse_f_stack:.2f}  | NMSE | guided: {nmse_g_stack:.2f} | free: {nmse_f_stack:.2f}\")"
   ]
  },
  {
   "cell_type": "markdown",
   "id": "51e43c91",
   "metadata": {},
   "source": [
    "TODO: automate"
   ]
  },
  {
   "cell_type": "markdown",
   "id": "ada667aa-f4b7-43b5-9aaf-ef74c33f2c40",
   "metadata": {},
   "source": [
    "| Model / Ensembling       | RMSE Guided       | NMSE Guided       | RMSE Free         | NMSE Free         |\n",
    "| ---------------------- | ----------------- | ----------------- | ----------------- | ----------------- |\n",
    "| Random Forest with Guided = Embedded and Free = PCA    |   4.99 | 0.05|11.11 | 0.21|\n",
    "| Covariance matrices + Neural Network   | 5.13      | 0.06      | 10.66      | 0.20      |\n",
    "| CNN | 4.80   |  0.05  | 11.66   | 0.24   |\n",
    "| Averaging   | 4.31 | 0.04 | 10.43 | 0.19 |\n",
    "| Stacking    | 4.44    | 0.04    | 11.86    | 0.21    |\n",
    "\n",
    "\n"
   ]
  },
  {
   "cell_type": "markdown",
   "id": "c4faad16-c14e-4760-b891-b62f9a18afb3",
   "metadata": {},
   "source": [
    "### Contributions of each model:"
   ]
  },
  {
   "cell_type": "code",
   "execution_count": null,
   "id": "606215f8-3f93-4c64-8811-01392781b983",
   "metadata": {},
   "outputs": [],
   "source": [
    "# Train the model with all the dataset \n",
    "lasso_model.fit(x_g_meta,y_g_train_preproc)\n",
    "\n",
    "\n",
    "# Have the coefficient for each output compare to each input\n",
    "# the matrix will have the shape (51, 51 * m)\n",
    "coeff_matrice = lasso_model.named_steps['lasso'].coef_\n",
    "\n",
    "def model_contributions(coeff_matrice,model_names):\n",
    "    m = len(model_names) \n",
    "    n_outputs, n_features = coeff_matrice.shape\n",
    "    per_model = n_features // m\n",
    "    \n",
    "    coef_abs = np.abs(coeff_matrice)\n",
    "    \n",
    "    # Calculate the coeef for each model and put them in a dico \n",
    "    sums = {}\n",
    "    for i in range(m):\n",
    "        start = i * per_model\n",
    "        end   = (i + 1) * per_model\n",
    "        model_sum = coef_abs[:, start:end].sum()\n",
    "        sums[model_names[i]] = model_sum\n",
    "    \n",
    "    # Normalize so that the contributions sum to 1\n",
    "    total = sum(sums.values())\n",
    "    for name in sums:\n",
    "        sums[name] /= total\n",
    "        \n",
    "    return sums\n",
    "\n",
    "models_names = [\"CNN\",\"NN + Covariance\",\"Random Forest Embedded\"]\n",
    "sums_g = model_contributions(coeff_matrice, models_names)\n",
    "\n",
    "#free \n",
    "lasso_model.fit(x_f_meta,y_f_train_preproc)\n",
    "coeff_matrice_f = lasso_model.named_steps['lasso'].coef_\n",
    "models_names = [\"CNN\",\"NN + Covariance\",\"Random Forest PCA\"]\n",
    "sums_f = model_contributions(coeff_matrice_f, models_names)"
   ]
  },
  {
   "cell_type": "code",
   "execution_count": null,
   "id": "3c13ca5b-3fff-47ab-8aea-1005e02da335",
   "metadata": {},
   "outputs": [],
   "source": [
    "def plot_contibutions(sums,dataset_name):\n",
    "    models = list(sums.keys())\n",
    "    contribs = list(sums.values())\n",
    "    \n",
    "    plt.figure()\n",
    "    plt.bar(models, contribs)\n",
    "    plt.ylabel('Relative Contribution')\n",
    "    plt.xlabel('Base Model')\n",
    "    plt.title('Model Contributions in Meta-Learner ' + dataset_name)\n",
    "    plt.tight_layout()\n",
    "    plt.show()\n",
    "\n",
    "plot_contibutions(sums_g,\"Guided\")\n",
    "plot_contibutions(sums_f,\"Free\")"
   ]
  },
  {
   "cell_type": "markdown",
   "id": "1340e5ac-94b5-449b-9186-0d6418de09b2",
   "metadata": {},
   "source": [
    "__Observations__:\n",
    "\n",
    "Inspecting Lasso meta-estimator coefficients, we see that it relies most heavily on the CNN predictions for the guided dataset, and on the covariance + NN model for the free dataset. This makes perfect sense given each model’s strengths. The stacking model has automatically selected the model that is best suited to each task."
   ]
  },
  {
   "cell_type": "markdown",
   "id": "8f4b91f9-aab0-409b-9482-640efab31630",
   "metadata": {},
   "source": [
    "___\n",
    "## Final model selection and predictions\n",
    "\n",
    "For the __Guided task__, we selected the Average ensemble method, as it has lowest rmse and nmse, as discussed above, we are aware of the limitations if the cross validation approach for the ensemble models but, still believe it has better chance of generalizing to unseen data (y_test) by architecture (relies on 3 different models, with relatively uncorrelated errors).\n",
    "Could have also went fo rthe best baseline pipeline (less complex, less risk of overfitting and still comparable rmse and nmse)\n",
    "\n",
    "For the __Free move task__, we selected also the averagin ensemble model, for the same reasons. Could have also went for the covariance matrix pipeline for same reasons as the best baseline for the guided task explain above."
   ]
  },
  {
   "cell_type": "code",
   "execution_count": null,
   "id": "68af80f3-3d56-4d02-b5e5-14d934929983",
   "metadata": {},
   "outputs": [],
   "source": [
    "def predict(model, x_train, y_train, x_test):\n",
    "    model.fit(x_train, y_train)\n",
    "    return model.predict(x_test)\n",
    "\n",
    "def build_csv(predict_guided, predict_free, file_name):\n",
    "    submission_array = np.vstack((predict_guided, predict_free))\n",
    "    df = pd.DataFrame(submission_array)\n",
    "    df.to_csv(file_name, index=False, header=False)"
   ]
  },
  {
   "cell_type": "code",
   "execution_count": null,
   "id": "74c442b1-ddca-466a-a03c-989814611f7a",
   "metadata": {},
   "outputs": [],
   "source": [
    "#Data preparation \n",
    "s_t_g = X_g_test.shape\n",
    "s_t_f = X_f_test.shape\n",
    "\n",
    "x_test_torch_g = X_g_test.reshape(s_t_g[0] * s_t_g[1], s_t_g[2] * s_t_g[3]).astype('float32')\n",
    "x_test_torch_f = X_f_test.reshape(s_t_f[0] * s_t_f[1], s_t_f[2] * s_t_f[3]).astype('float32')"
   ]
  },
  {
   "cell_type": "code",
   "execution_count": null,
   "id": "5d4b2c45-dd9e-44fb-8daf-a7ec5295b279",
   "metadata": {
    "scrolled": true
   },
   "outputs": [],
   "source": [
    "# Average method prediction \n",
    "y_g_predict_rf_final = predict(final_baseline_pipe_g, X_g_train_wdw, y_g_train_preproc,X_g_test) \n",
    "y_f_predict_rf_final = predict(final_baseline_pipe_f, X_f_train_wdw, y_f_train_preproc,X_f_test)\n",
    "\n",
    "y_g_predict_cnn_final =  predict(pipe_cnn, x_g_cnn, y_g_torch, x_test_torch_g)\n",
    "y_f_predict_cnn_final = predict(pipe_cnn,x_f_cnn, y_f_torch, x_test_torch_f)"
   ]
  },
  {
   "cell_type": "code",
   "execution_count": null,
   "id": "a5d889c6-c8ed-41da-838f-f3a5dd61b2e1",
   "metadata": {
    "scrolled": true
   },
   "outputs": [],
   "source": [
    "# Data preparations \n",
    "X_g_test_sample = XWindowSampleReshaper().transform(X_g_test)\n",
    "X_f_test_sample = XWindowSampleReshaper().transform(X_f_test)\n",
    "\n",
    "print(X_g_test_sample.shape)\n",
    "\n",
    "y_g_predict_nn_covariance_final = predict(pipe_fusion, X_g_train_sample, y_g_torch, X_g_test_sample)\n",
    "y_f_predict_nn_covariance_final = predict(pipe_fusion, X_f_train_sample, y_f_torch, X_f_test_sample)\n",
    "\n",
    "\n",
    "y_g_predict_ensemble_final = (y_g_predict_cnn_final + y_g_predict_nn_covariance_final + y_g_predict_rf_final) / 3 \n",
    "y_f_predict_ensemble_final = (y_f_predict_cnn_final + y_f_predict_nn_covariance_final + y_f_predict_rf_final) / 3 "
   ]
  },
  {
   "cell_type": "code",
   "execution_count": 80,
   "id": "9f4cfecf-b164-4efb-a14e-09433453c978",
   "metadata": {},
   "outputs": [
    {
     "name": "stdout",
     "output_type": "stream",
     "text": [
      "(1660, 51) (1540, 51)\n"
     ]
    }
   ],
   "source": [
    "print(y_g_predict_ensemble_final.shape, y_f_predict_ensemble_final.shape)"
   ]
  },
  {
   "cell_type": "code",
   "execution_count": 81,
   "id": "46683c13-c167-4bc8-936d-aa759ae3e3b2",
   "metadata": {},
   "outputs": [],
   "source": [
    "build_csv(y_g_predict_ensemble_final,y_f_predict_ensemble_final,\"./results/average_team2_submission.csv\")"
   ]
  },
  {
   "cell_type": "code",
   "execution_count": null,
   "id": "57921af0-e5f2-4ee1-84e0-7a0207a81f3f",
   "metadata": {},
   "outputs": [],
   "source": [
    "# Stacking method prediction\n",
    "\n",
    "x_g_meta_final = np.concatenate([y_g_predict_cnn_final, y_g_predict_nn_covariance_final,y_g_predict_rf_final], axis=1)\n",
    "x_f_meta_final = np.concatenate([y_f_predict_cnn_final, y_f_predict_nn_covariance_final,y_f_predict_rf_final], axis=1) \n",
    "\n",
    "y_g_stacking =  predict(lasso_model, x_g_meta, y_g_train_preproc,x_g_meta_final)\n",
    "y_f_stacking  = predict(lasso_model, x_f_meta, y_f_train_preproc,x_f_meta_final)"
   ]
  },
  {
   "cell_type": "code",
   "execution_count": 111,
   "id": "7559092e-4370-40a0-b4d7-50cdbd5687e7",
   "metadata": {},
   "outputs": [
    {
     "name": "stdout",
     "output_type": "stream",
     "text": [
      "Stopping since valid_loss has not improved in the last 10 epochs.\n",
      "Stopping since valid_loss has not improved in the last 10 epochs.\n",
      "Stopping since valid_loss has not improved in the last 10 epochs.\n",
      "Stopping since valid_loss has not improved in the last 10 epochs.\n",
      "Stopping since valid_loss has not improved in the last 10 epochs.\n",
      "Stopping since valid_loss has not improved in the last 10 epochs.\n",
      "Stopping since valid_loss has not improved in the last 10 epochs.\n",
      "Stopping since valid_loss has not improved in the last 10 epochs.\n"
     ]
    }
   ],
   "source": [
    "build_csv(y_g_stacking,y_f_stacking,\"./results/stacking_team2_submission.csv\")"
   ]
  },
  {
   "cell_type": "markdown",
   "id": "b3f1726c-0cad-4e47-b5b6-cc6780e546d1",
   "metadata": {},
   "source": [
    "___\n",
    "## Visualization tool\n",
    "\n",
    "In this bonus question, we used the real-time visualization tool provided to better evaluate our model’s predictions. This step has been particularly useful, as it allowed us to go beyond numerical metrics (like RMSE). With this, we could visually assess the quality of the predicted hand movements.\n",
    "\n",
    "We started by training our Random Forest model, which achieved an RMSE of around 5 on the guided dataset and around 11 for the freemoves dataset. After that, we integrated our predictions into Unity. As we expected, the visualization confirmed that the results were generally accurate. The predicted poses were mostly correct. However, we still observed tremors, especially during phases where the hand was supposed to remain still, highlighting a lack of stability in the model's predictions. We also identified issues during some fast or complex movements, such as a lack of fluidity or misaligned fingers problems that would have been difficult to detect using standard metrics alone.\n",
    "\n",
    "We recorded a short video to illustrate these observations, which is available on our repository."
   ]
  },
  {
   "cell_type": "code",
   "execution_count": null,
   "id": "457b202a-32a3-44f6-a952-0243187c8a38",
   "metadata": {},
   "outputs": [
    {
     "name": "stdout",
     "output_type": "stream",
     "text": [
      "Connection successful on host 127.0.0.1:25002\n",
      "Data streaming started\n",
      "Connection successful on host 127.0.0.1:25001\n",
      "Data streaming started\n"
     ]
    }
   ],
   "source": [
    "\n",
    "def send_hand_poses(csv_file, port, freq):\n",
    "    data = pd.read_csv(csv_file).values\n",
    "\n",
    "    streamer = Pose_Streamer(sfreq=freq, host=\"127.0.0.1\", port=port)\n",
    "    streamer.start_streaming()\n",
    "\n",
    "    for pose in data:\n",
    "        streamer.send_pose(pose)\n",
    "        time.sleep(1.0 / freq)\n",
    "\n",
    "    streamer.stop_streaming()\n",
    "\n",
    "\n",
    "#csv_file_right = \"CsvQ8/freemoves_X.csv\" # X\n",
    "#csv_file_left = \"CsvQ8/freemoves_y.csv\"    # Y\n",
    "csv_file_right = \"CsvQ8/guided_X.csv\" # X\n",
    "csv_file_left = \"CsvQ8/guided_y.csv\"    # Y\n",
    "\n",
    "    \n",
    "freq = 10  # Hz\n",
    "\n",
    "right_thread = threading.Thread(target=send_hand_poses, args=(csv_file_right, 25002, freq))\n",
    "left_thread = threading.Thread(target=send_hand_poses, args=(csv_file_left, 25001, freq))\n",
    "\n",
    "right_thread.start()\n",
    "left_thread.start()\n",
    "\n",
    "right_thread.join()\n",
    "left_thread.join()\n",
    "\n",
    "\n"
   ]
  }
 ],
 "metadata": {
  "kernelspec": {
   "display_name": "sfml",
   "language": "python",
   "name": "python3"
  },
  "language_info": {
   "codemirror_mode": {
    "name": "ipython",
    "version": 3
   },
   "file_extension": ".py",
   "mimetype": "text/x-python",
   "name": "python",
   "nbconvert_exporter": "python",
   "pygments_lexer": "ipython3",
   "version": "3.12.9"
  }
 },
 "nbformat": 4,
 "nbformat_minor": 5
}
